{
 "cells": [
  {
   "cell_type": "markdown",
   "id": "29afdccb",
   "metadata": {},
   "source": [
    "# 필요한 라이브러리 import"
   ]
  },
  {
   "cell_type": "code",
   "execution_count": 1,
   "id": "79c650f7",
   "metadata": {},
   "outputs": [],
   "source": [
    "import pandas as pd\n",
    "from data_concat import data_concat\n",
    "from sentimentalAnalysis import sentimental_analysis\n",
    "from sentimentalAnalysis import sentimental_analysis"
   ]
  },
  {
   "cell_type": "markdown",
   "id": "74f72def",
   "metadata": {},
   "source": [
    "## 2.1 MANA Train Data - Processed for Flair\n",
    "\n",
    "- 전처리 이후 김도영 학우에게 전달하여 학습할 데이터\n",
    "- 2022.04.13~2022.04.27"
   ]
  },
  {
   "cell_type": "code",
   "execution_count": 2,
   "id": "1b5a6c84",
   "metadata": {},
   "outputs": [],
   "source": [
    "#tweet data 2022.04.14~2022.04.28\n",
    "date=\"2022-04-\"\n",
    "d_concat = data_concat()\n",
    "decentraland_df = []\n",
    "\n",
    "for i in range(14,29):\n",
    "    decentraland_df.append(pd.read_csv('./decentraland/MANA OR decentraland_'+date+str(i), \n",
    "                                  encoding='utf-8', on_bad_lines='skip').drop('number',axis=1))\n",
    "\n",
    "decentraland_data = d_concat.concat(decentraland_df)"
   ]
  },
  {
   "cell_type": "code",
   "execution_count": 3,
   "id": "3cc358c7",
   "metadata": {
    "scrolled": true
   },
   "outputs": [
    {
     "data": {
      "text/plain": [
       "date                0\n",
       "user_id             0\n",
       "user_name           0\n",
       "user_screen_name    0\n",
       "tweet               0\n",
       "retweets            0\n",
       "likes               0\n",
       "follower_number     0\n",
       "following_number    0\n",
       "dtype: int64"
      ]
     },
     "execution_count": 3,
     "metadata": {},
     "output_type": "execute_result"
    }
   ],
   "source": [
    "decentraland_data.isna().sum()"
   ]
  },
  {
   "cell_type": "code",
   "execution_count": 4,
   "id": "5404c424",
   "metadata": {},
   "outputs": [
    {
     "data": {
      "text/plain": [
       "date                0\n",
       "user_id             0\n",
       "user_name           0\n",
       "user_screen_name    0\n",
       "tweet               0\n",
       "retweets            0\n",
       "likes               0\n",
       "follower_number     0\n",
       "following_number    0\n",
       "dtype: int64"
      ]
     },
     "execution_count": 4,
     "metadata": {},
     "output_type": "execute_result"
    }
   ],
   "source": [
    "decentraland_data= decentraland_data.dropna()\n",
    "decentraland_data.isna().sum()"
   ]
  },
  {
   "cell_type": "code",
   "execution_count": 5,
   "id": "6de8262f",
   "metadata": {
    "scrolled": false
   },
   "outputs": [
    {
     "data": {
      "text/html": [
       "<div>\n",
       "<style scoped>\n",
       "    .dataframe tbody tr th:only-of-type {\n",
       "        vertical-align: middle;\n",
       "    }\n",
       "\n",
       "    .dataframe tbody tr th {\n",
       "        vertical-align: top;\n",
       "    }\n",
       "\n",
       "    .dataframe thead th {\n",
       "        text-align: right;\n",
       "    }\n",
       "</style>\n",
       "<table border=\"1\" class=\"dataframe\">\n",
       "  <thead>\n",
       "    <tr style=\"text-align: right;\">\n",
       "      <th></th>\n",
       "      <th>date</th>\n",
       "      <th>user_id</th>\n",
       "      <th>user_name</th>\n",
       "      <th>user_screen_name</th>\n",
       "      <th>tweet</th>\n",
       "      <th>retweets</th>\n",
       "      <th>likes</th>\n",
       "      <th>follower_number</th>\n",
       "      <th>following_number</th>\n",
       "    </tr>\n",
       "  </thead>\n",
       "  <tbody>\n",
       "    <tr>\n",
       "      <th>0</th>\n",
       "      <td>2022-04-13 18:24:46+00:00</td>\n",
       "      <td>1360447766267314179</td>\n",
       "      <td>The Path Least Taken</td>\n",
       "      <td>MattCrow85</td>\n",
       "      <td>What are your thoughts on #Decentraland or #MA...</td>\n",
       "      <td>0</td>\n",
       "      <td>0</td>\n",
       "      <td>24</td>\n",
       "      <td>25</td>\n",
       "    </tr>\n",
       "    <tr>\n",
       "      <th>1</th>\n",
       "      <td>2022-04-15 07:23:19+00:00</td>\n",
       "      <td>575197117</td>\n",
       "      <td>Crypto Signal Mall</td>\n",
       "      <td>TopPaidSignals</td>\n",
       "      <td>or retest 38 / 36k that's why I prefer to be f...</td>\n",
       "      <td>0</td>\n",
       "      <td>0</td>\n",
       "      <td>474</td>\n",
       "      <td>231</td>\n",
       "    </tr>\n",
       "    <tr>\n",
       "      <th>2</th>\n",
       "      <td>2022-04-15 20:31:06+00:00</td>\n",
       "      <td>575197117</td>\n",
       "      <td>Crypto Signal Mall</td>\n",
       "      <td>TopPaidSignals</td>\n",
       "      <td>#talks\\n\\n👑johnny\\nCryptoGodJohn:\\nLooking for...</td>\n",
       "      <td>0</td>\n",
       "      <td>1</td>\n",
       "      <td>474</td>\n",
       "      <td>231</td>\n",
       "    </tr>\n",
       "    <tr>\n",
       "      <th>3</th>\n",
       "      <td>2022-04-15 22:27:28+00:00</td>\n",
       "      <td>575197117</td>\n",
       "      <td>Crypto Signal Mall</td>\n",
       "      <td>TopPaidSignals</td>\n",
       "      <td>#talks\\n\\n💨woods\\nwoods:\\nLet’s play a game gu...</td>\n",
       "      <td>0</td>\n",
       "      <td>0</td>\n",
       "      <td>474</td>\n",
       "      <td>231</td>\n",
       "    </tr>\n",
       "    <tr>\n",
       "      <th>4</th>\n",
       "      <td>2022-04-15 22:27:28+00:00</td>\n",
       "      <td>575197117</td>\n",
       "      <td>Crypto Signal Mall</td>\n",
       "      <td>TopPaidSignals</td>\n",
       "      <td>#talks\\n\\n💨woods\\nwoods:\\nLet’s play a game gu...</td>\n",
       "      <td>0</td>\n",
       "      <td>0</td>\n",
       "      <td>474</td>\n",
       "      <td>231</td>\n",
       "    </tr>\n",
       "    <tr>\n",
       "      <th>5</th>\n",
       "      <td>2022-04-20 20:50:34+00:00</td>\n",
       "      <td>1089601013043154950</td>\n",
       "      <td>CharmCityCoach</td>\n",
       "      <td>CharmCityCoach</td>\n",
       "      <td>\"Decentraland (MANA) Enters a Make-or-Break Le...</td>\n",
       "      <td>0</td>\n",
       "      <td>0</td>\n",
       "      <td>43</td>\n",
       "      <td>68</td>\n",
       "    </tr>\n",
       "  </tbody>\n",
       "</table>\n",
       "</div>"
      ],
      "text/plain": [
       "                        date              user_id             user_name  \\\n",
       "0  2022-04-13 18:24:46+00:00  1360447766267314179  The Path Least Taken   \n",
       "1  2022-04-15 07:23:19+00:00            575197117    Crypto Signal Mall   \n",
       "2  2022-04-15 20:31:06+00:00            575197117    Crypto Signal Mall   \n",
       "3  2022-04-15 22:27:28+00:00            575197117    Crypto Signal Mall   \n",
       "4  2022-04-15 22:27:28+00:00            575197117    Crypto Signal Mall   \n",
       "5  2022-04-20 20:50:34+00:00  1089601013043154950        CharmCityCoach   \n",
       "\n",
       "  user_screen_name                                              tweet  \\\n",
       "0       MattCrow85  What are your thoughts on #Decentraland or #MA...   \n",
       "1   TopPaidSignals  or retest 38 / 36k that's why I prefer to be f...   \n",
       "2   TopPaidSignals  #talks\\n\\n👑johnny\\nCryptoGodJohn:\\nLooking for...   \n",
       "3   TopPaidSignals  #talks\\n\\n💨woods\\nwoods:\\nLet’s play a game gu...   \n",
       "4   TopPaidSignals  #talks\\n\\n💨woods\\nwoods:\\nLet’s play a game gu...   \n",
       "5   CharmCityCoach  \"Decentraland (MANA) Enters a Make-or-Break Le...   \n",
       "\n",
       "  retweets likes follower_number following_number  \n",
       "0        0     0              24               25  \n",
       "1        0     0             474              231  \n",
       "2        0     1             474              231  \n",
       "3        0     0             474              231  \n",
       "4        0     0             474              231  \n",
       "5        0     0              43               68  "
      ]
     },
     "execution_count": 5,
     "metadata": {},
     "output_type": "execute_result"
    }
   ],
   "source": [
    "# 데이터 저장\n",
    "decentraland_data = decentraland_data.sort_values('date').reset_index(drop=True)\n",
    "decentraland_data.to_csv('decentraland_train_data')\n",
    "decentraland_data"
   ]
  },
  {
   "cell_type": "code",
   "execution_count": 6,
   "id": "5dd7ec30",
   "metadata": {},
   "outputs": [],
   "source": [
    "flair_decentraland = decentraland_data[['date','tweet']]"
   ]
  },
  {
   "cell_type": "code",
   "execution_count": 7,
   "id": "bff76bb3",
   "metadata": {},
   "outputs": [],
   "source": [
    "sentimental_tweet = sentimental_analysis(flair_decentraland)"
   ]
  },
  {
   "cell_type": "code",
   "execution_count": 8,
   "id": "908fd3b4",
   "metadata": {},
   "outputs": [
    {
     "name": "stderr",
     "output_type": "stream",
     "text": [
      "100%|████████████████████████████████████████████| 6/6 [00:00<00:00, 690.67it/s]"
     ]
    },
    {
     "name": "stdout",
     "output_type": "stream",
     "text": [
      "process time :  0.022601842880249023\n"
     ]
    },
    {
     "name": "stderr",
     "output_type": "stream",
     "text": [
      "\n"
     ]
    },
    {
     "data": {
      "text/html": [
       "<div>\n",
       "<style scoped>\n",
       "    .dataframe tbody tr th:only-of-type {\n",
       "        vertical-align: middle;\n",
       "    }\n",
       "\n",
       "    .dataframe tbody tr th {\n",
       "        vertical-align: top;\n",
       "    }\n",
       "\n",
       "    .dataframe thead th {\n",
       "        text-align: right;\n",
       "    }\n",
       "</style>\n",
       "<table border=\"1\" class=\"dataframe\">\n",
       "  <thead>\n",
       "    <tr style=\"text-align: right;\">\n",
       "      <th></th>\n",
       "      <th>date</th>\n",
       "      <th>tweet</th>\n",
       "      <th>clean_text</th>\n",
       "      <th>flair</th>\n",
       "    </tr>\n",
       "  </thead>\n",
       "  <tbody>\n",
       "    <tr>\n",
       "      <th>0</th>\n",
       "      <td>2022-04-13 18:24:46+00:00</td>\n",
       "      <td>What are your thoughts on #Decentraland or #MA...</td>\n",
       "      <td>What are your thoughts on or</td>\n",
       "      <td>NaN</td>\n",
       "    </tr>\n",
       "    <tr>\n",
       "      <th>1</th>\n",
       "      <td>2022-04-15 07:23:19+00:00</td>\n",
       "      <td>or retest 38 / 36k that's why I prefer to be f...</td>\n",
       "      <td>or retest 38 / 36k that is why I prefer to be ...</td>\n",
       "      <td>NaN</td>\n",
       "    </tr>\n",
       "    <tr>\n",
       "      <th>2</th>\n",
       "      <td>2022-04-15 20:31:06+00:00</td>\n",
       "      <td>#talks\\n\\n👑johnny\\nCryptoGodJohn:\\nLooking for...</td>\n",
       "      <td>johnny CryptoGodJohn Looking for a either a sw...</td>\n",
       "      <td>NaN</td>\n",
       "    </tr>\n",
       "    <tr>\n",
       "      <th>3</th>\n",
       "      <td>2022-04-15 22:27:28+00:00</td>\n",
       "      <td>#talks\\n\\n💨woods\\nwoods:\\nLet’s play a game gu...</td>\n",
       "      <td>woods woods Let's play a game guess the chart ...</td>\n",
       "      <td>NaN</td>\n",
       "    </tr>\n",
       "    <tr>\n",
       "      <th>4</th>\n",
       "      <td>2022-04-15 22:27:28+00:00</td>\n",
       "      <td>#talks\\n\\n💨woods\\nwoods:\\nLet’s play a game gu...</td>\n",
       "      <td>woods woods Let's play a game guess the chart ...</td>\n",
       "      <td>NaN</td>\n",
       "    </tr>\n",
       "    <tr>\n",
       "      <th>5</th>\n",
       "      <td>2022-04-20 20:50:34+00:00</td>\n",
       "      <td>\"Decentraland (MANA) Enters a Make-or-Break Le...</td>\n",
       "      <td>\" Decentraland ( MANA ) Enters a Make or Break...</td>\n",
       "      <td>NaN</td>\n",
       "    </tr>\n",
       "  </tbody>\n",
       "</table>\n",
       "</div>"
      ],
      "text/plain": [
       "                        date  \\\n",
       "0  2022-04-13 18:24:46+00:00   \n",
       "1  2022-04-15 07:23:19+00:00   \n",
       "2  2022-04-15 20:31:06+00:00   \n",
       "3  2022-04-15 22:27:28+00:00   \n",
       "4  2022-04-15 22:27:28+00:00   \n",
       "5  2022-04-20 20:50:34+00:00   \n",
       "\n",
       "                                               tweet  \\\n",
       "0  What are your thoughts on #Decentraland or #MA...   \n",
       "1  or retest 38 / 36k that's why I prefer to be f...   \n",
       "2  #talks\\n\\n👑johnny\\nCryptoGodJohn:\\nLooking for...   \n",
       "3  #talks\\n\\n💨woods\\nwoods:\\nLet’s play a game gu...   \n",
       "4  #talks\\n\\n💨woods\\nwoods:\\nLet’s play a game gu...   \n",
       "5  \"Decentraland (MANA) Enters a Make-or-Break Le...   \n",
       "\n",
       "                                          clean_text  flair  \n",
       "0                       What are your thoughts on or    NaN  \n",
       "1  or retest 38 / 36k that is why I prefer to be ...    NaN  \n",
       "2  johnny CryptoGodJohn Looking for a either a sw...    NaN  \n",
       "3  woods woods Let's play a game guess the chart ...    NaN  \n",
       "4  woods woods Let's play a game guess the chart ...    NaN  \n",
       "5  \" Decentraland ( MANA ) Enters a Make or Break...    NaN  "
      ]
     },
     "execution_count": 8,
     "metadata": {},
     "output_type": "execute_result"
    }
   ],
   "source": [
    "sentimental_tweet.process('flair')\n",
    "flair_processed_decentraland = sentimental_tweet.twitter_data.drop('vader',axis=1)\n",
    "flair_processed_decentraland"
   ]
  },
  {
   "cell_type": "code",
   "execution_count": 9,
   "id": "d4074e31",
   "metadata": {},
   "outputs": [],
   "source": [
    "flair_processed_decentraland.to_csv('flair_processed_decentraland_train_data')"
   ]
  },
  {
   "cell_type": "code",
   "execution_count": 10,
   "id": "ea6784ca",
   "metadata": {
    "scrolled": false
   },
   "outputs": [
    {
     "data": {
      "text/html": [
       "<div>\n",
       "<style scoped>\n",
       "    .dataframe tbody tr th:only-of-type {\n",
       "        vertical-align: middle;\n",
       "    }\n",
       "\n",
       "    .dataframe tbody tr th {\n",
       "        vertical-align: top;\n",
       "    }\n",
       "\n",
       "    .dataframe thead th {\n",
       "        text-align: right;\n",
       "    }\n",
       "</style>\n",
       "<table border=\"1\" class=\"dataframe\">\n",
       "  <thead>\n",
       "    <tr style=\"text-align: right;\">\n",
       "      <th></th>\n",
       "      <th>date</th>\n",
       "      <th>tweet</th>\n",
       "      <th>clean_text</th>\n",
       "      <th>flair</th>\n",
       "    </tr>\n",
       "  </thead>\n",
       "  <tbody>\n",
       "    <tr>\n",
       "      <th>0</th>\n",
       "      <td>2022-04-13 18:24:46+00:00</td>\n",
       "      <td>What are your thoughts on #Decentraland or #MA...</td>\n",
       "      <td>What are your thoughts on or</td>\n",
       "      <td>NaN</td>\n",
       "    </tr>\n",
       "    <tr>\n",
       "      <th>1</th>\n",
       "      <td>2022-04-15 07:23:19+00:00</td>\n",
       "      <td>or retest 38 / 36k that's why I prefer to be f...</td>\n",
       "      <td>or retest 38 / 36k that is why I prefer to be ...</td>\n",
       "      <td>NaN</td>\n",
       "    </tr>\n",
       "    <tr>\n",
       "      <th>2</th>\n",
       "      <td>2022-04-15 20:31:06+00:00</td>\n",
       "      <td>#talks\\n\\n👑johnny\\nCryptoGodJohn:\\nLooking for...</td>\n",
       "      <td>johnny CryptoGodJohn Looking for a either a sw...</td>\n",
       "      <td>NaN</td>\n",
       "    </tr>\n",
       "    <tr>\n",
       "      <th>3</th>\n",
       "      <td>2022-04-15 22:27:28+00:00</td>\n",
       "      <td>#talks\\n\\n💨woods\\nwoods:\\nLet’s play a game gu...</td>\n",
       "      <td>woods woods Let's play a game guess the chart ...</td>\n",
       "      <td>NaN</td>\n",
       "    </tr>\n",
       "    <tr>\n",
       "      <th>4</th>\n",
       "      <td>2022-04-15 22:27:28+00:00</td>\n",
       "      <td>#talks\\n\\n💨woods\\nwoods:\\nLet’s play a game gu...</td>\n",
       "      <td>woods woods Let's play a game guess the chart ...</td>\n",
       "      <td>NaN</td>\n",
       "    </tr>\n",
       "    <tr>\n",
       "      <th>5</th>\n",
       "      <td>2022-04-20 20:50:34+00:00</td>\n",
       "      <td>\"Decentraland (MANA) Enters a Make-or-Break Le...</td>\n",
       "      <td>\" Decentraland ( MANA ) Enters a Make or Break...</td>\n",
       "      <td>NaN</td>\n",
       "    </tr>\n",
       "  </tbody>\n",
       "</table>\n",
       "</div>"
      ],
      "text/plain": [
       "                        date  \\\n",
       "0  2022-04-13 18:24:46+00:00   \n",
       "1  2022-04-15 07:23:19+00:00   \n",
       "2  2022-04-15 20:31:06+00:00   \n",
       "3  2022-04-15 22:27:28+00:00   \n",
       "4  2022-04-15 22:27:28+00:00   \n",
       "5  2022-04-20 20:50:34+00:00   \n",
       "\n",
       "                                               tweet  \\\n",
       "0  What are your thoughts on #Decentraland or #MA...   \n",
       "1  or retest 38 / 36k that's why I prefer to be f...   \n",
       "2  #talks\\n\\n👑johnny\\nCryptoGodJohn:\\nLooking for...   \n",
       "3  #talks\\n\\n💨woods\\nwoods:\\nLet’s play a game gu...   \n",
       "4  #talks\\n\\n💨woods\\nwoods:\\nLet’s play a game gu...   \n",
       "5  \"Decentraland (MANA) Enters a Make-or-Break Le...   \n",
       "\n",
       "                                          clean_text  flair  \n",
       "0                       What are your thoughts on or    NaN  \n",
       "1  or retest 38 / 36k that is why I prefer to be ...    NaN  \n",
       "2  johnny CryptoGodJohn Looking for a either a sw...    NaN  \n",
       "3  woods woods Let's play a game guess the chart ...    NaN  \n",
       "4  woods woods Let's play a game guess the chart ...    NaN  \n",
       "5  \" Decentraland ( MANA ) Enters a Make or Break...    NaN  "
      ]
     },
     "execution_count": 10,
     "metadata": {},
     "output_type": "execute_result"
    }
   ],
   "source": [
    "pd.read_csv('flair_processed_decentraland_train_data').drop('Unnamed: 0',axis=1)"
   ]
  },
  {
   "cell_type": "markdown",
   "id": "2ca051c9",
   "metadata": {},
   "source": [
    "## 2.2 Vader, Textblob 감성분석 진행"
   ]
  },
  {
   "cell_type": "markdown",
   "id": "91a79915",
   "metadata": {},
   "source": [
    "- Textblob 감성 분석"
   ]
  },
  {
   "cell_type": "code",
   "execution_count": 11,
   "id": "79a6a730",
   "metadata": {},
   "outputs": [
    {
     "name": "stderr",
     "output_type": "stream",
     "text": [
      "100%|███████████████████████████████████████████| 6/6 [00:00<00:00, 3454.00it/s]\n"
     ]
    },
    {
     "name": "stdout",
     "output_type": "stream",
     "text": [
      "process time :  0.004302024841308594\n"
     ]
    },
    {
     "name": "stderr",
     "output_type": "stream",
     "text": [
      "100%|████████████████████████████████████████████| 6/6 [00:00<00:00, 194.77it/s]"
     ]
    },
    {
     "name": "stdout",
     "output_type": "stream",
     "text": [
      "textblob sentimental time :  0.03177022933959961\n"
     ]
    },
    {
     "name": "stderr",
     "output_type": "stream",
     "text": [
      "\n"
     ]
    }
   ],
   "source": [
    "sentimental_tweet.process('textblob')\n",
    "sentimental_tweet.sentimental_with_textblob()"
   ]
  },
  {
   "cell_type": "markdown",
   "id": "51ff4062",
   "metadata": {},
   "source": [
    "- Vader 감성 분석"
   ]
  },
  {
   "cell_type": "code",
   "execution_count": 12,
   "id": "7e0c8bb8",
   "metadata": {},
   "outputs": [
    {
     "name": "stderr",
     "output_type": "stream",
     "text": [
      "100%|███████████████████████████████████████████| 6/6 [00:00<00:00, 3901.07it/s]\n"
     ]
    },
    {
     "name": "stdout",
     "output_type": "stream",
     "text": [
      "process time :  0.005235910415649414\n"
     ]
    },
    {
     "name": "stderr",
     "output_type": "stream",
     "text": [
      "100%|███████████████████████████████████████████| 6/6 [00:00<00:00, 4926.75it/s]"
     ]
    },
    {
     "name": "stdout",
     "output_type": "stream",
     "text": [
      "vader sentimental time :  0.008477926254272461\n"
     ]
    },
    {
     "name": "stderr",
     "output_type": "stream",
     "text": [
      "\n"
     ]
    }
   ],
   "source": [
    "sentimental_tweet.process('vader')\n",
    "sentimental_tweet.sentimental_with_vader()"
   ]
  },
  {
   "cell_type": "code",
   "execution_count": 13,
   "id": "724289a0",
   "metadata": {},
   "outputs": [
    {
     "data": {
      "text/html": [
       "<div>\n",
       "<style scoped>\n",
       "    .dataframe tbody tr th:only-of-type {\n",
       "        vertical-align: middle;\n",
       "    }\n",
       "\n",
       "    .dataframe tbody tr th {\n",
       "        vertical-align: top;\n",
       "    }\n",
       "\n",
       "    .dataframe thead th {\n",
       "        text-align: right;\n",
       "    }\n",
       "</style>\n",
       "<table border=\"1\" class=\"dataframe\">\n",
       "  <thead>\n",
       "    <tr style=\"text-align: right;\">\n",
       "      <th></th>\n",
       "      <th>date</th>\n",
       "      <th>tweet</th>\n",
       "      <th>clean_text</th>\n",
       "      <th>vader</th>\n",
       "      <th>textblob</th>\n",
       "    </tr>\n",
       "  </thead>\n",
       "  <tbody>\n",
       "    <tr>\n",
       "      <th>0</th>\n",
       "      <td>2022-04-13 18:24:46+00:00</td>\n",
       "      <td>What are your thoughts on #Decentraland or #MA...</td>\n",
       "      <td>What are your thoughts on or</td>\n",
       "      <td>0.0000</td>\n",
       "      <td>0.000000</td>\n",
       "    </tr>\n",
       "    <tr>\n",
       "      <th>1</th>\n",
       "      <td>2022-04-15 07:23:19+00:00</td>\n",
       "      <td>or retest 38 / 36k that's why I prefer to be f...</td>\n",
       "      <td>or retest 38 / 36k that is why I prefer to be ...</td>\n",
       "      <td>0.0516</td>\n",
       "      <td>0.087500</td>\n",
       "    </tr>\n",
       "    <tr>\n",
       "      <th>2</th>\n",
       "      <td>2022-04-15 20:31:06+00:00</td>\n",
       "      <td>#talks\\n\\n👑johnny\\nCryptoGodJohn:\\nLooking for...</td>\n",
       "      <td>johnny CryptoGodJohn Looking for a either a sw...</td>\n",
       "      <td>-0.2500</td>\n",
       "      <td>0.000000</td>\n",
       "    </tr>\n",
       "    <tr>\n",
       "      <th>3</th>\n",
       "      <td>2022-04-15 22:27:28+00:00</td>\n",
       "      <td>#talks\\n\\n💨woods\\nwoods:\\nLet’s play a game gu...</td>\n",
       "      <td>woods woods Let's play a game guess the chart ...</td>\n",
       "      <td>0.7351</td>\n",
       "      <td>0.197143</td>\n",
       "    </tr>\n",
       "    <tr>\n",
       "      <th>4</th>\n",
       "      <td>2022-04-15 22:27:28+00:00</td>\n",
       "      <td>#talks\\n\\n💨woods\\nwoods:\\nLet’s play a game gu...</td>\n",
       "      <td>woods woods Let's play a game guess the chart ...</td>\n",
       "      <td>0.7351</td>\n",
       "      <td>0.197143</td>\n",
       "    </tr>\n",
       "    <tr>\n",
       "      <th>5</th>\n",
       "      <td>2022-04-20 20:50:34+00:00</td>\n",
       "      <td>\"Decentraland (MANA) Enters a Make-or-Break Le...</td>\n",
       "      <td>\" Decentraland ( MANA ) Enters a Make or Break...</td>\n",
       "      <td>0.2023</td>\n",
       "      <td>0.250000</td>\n",
       "    </tr>\n",
       "  </tbody>\n",
       "</table>\n",
       "</div>"
      ],
      "text/plain": [
       "                        date  \\\n",
       "0  2022-04-13 18:24:46+00:00   \n",
       "1  2022-04-15 07:23:19+00:00   \n",
       "2  2022-04-15 20:31:06+00:00   \n",
       "3  2022-04-15 22:27:28+00:00   \n",
       "4  2022-04-15 22:27:28+00:00   \n",
       "5  2022-04-20 20:50:34+00:00   \n",
       "\n",
       "                                               tweet  \\\n",
       "0  What are your thoughts on #Decentraland or #MA...   \n",
       "1  or retest 38 / 36k that's why I prefer to be f...   \n",
       "2  #talks\\n\\n👑johnny\\nCryptoGodJohn:\\nLooking for...   \n",
       "3  #talks\\n\\n💨woods\\nwoods:\\nLet’s play a game gu...   \n",
       "4  #talks\\n\\n💨woods\\nwoods:\\nLet’s play a game gu...   \n",
       "5  \"Decentraland (MANA) Enters a Make-or-Break Le...   \n",
       "\n",
       "                                          clean_text   vader  textblob  \n",
       "0                       What are your thoughts on or  0.0000  0.000000  \n",
       "1  or retest 38 / 36k that is why I prefer to be ...  0.0516  0.087500  \n",
       "2  johnny CryptoGodJohn Looking for a either a sw... -0.2500  0.000000  \n",
       "3  woods woods Let's play a game guess the chart ...  0.7351  0.197143  \n",
       "4  woods woods Let's play a game guess the chart ...  0.7351  0.197143  \n",
       "5  \" Decentraland ( MANA ) Enters a Make or Break...  0.2023  0.250000  "
      ]
     },
     "execution_count": 13,
     "metadata": {},
     "output_type": "execute_result"
    }
   ],
   "source": [
    "sentimental_tweet.twitter_data = sentimental_tweet.twitter_data.drop('flair',axis=1)\n",
    "sentimental_tweet.twitter_data"
   ]
  },
  {
   "cell_type": "code",
   "execution_count": 14,
   "id": "0f067e6c",
   "metadata": {},
   "outputs": [
    {
     "data": {
      "text/html": [
       "<div>\n",
       "<style scoped>\n",
       "    .dataframe tbody tr th:only-of-type {\n",
       "        vertical-align: middle;\n",
       "    }\n",
       "\n",
       "    .dataframe tbody tr th {\n",
       "        vertical-align: top;\n",
       "    }\n",
       "\n",
       "    .dataframe thead th {\n",
       "        text-align: right;\n",
       "    }\n",
       "</style>\n",
       "<table border=\"1\" class=\"dataframe\">\n",
       "  <thead>\n",
       "    <tr style=\"text-align: right;\">\n",
       "      <th></th>\n",
       "      <th>date</th>\n",
       "      <th>tweet</th>\n",
       "      <th>clean_text</th>\n",
       "      <th>vader</th>\n",
       "      <th>textblob</th>\n",
       "    </tr>\n",
       "  </thead>\n",
       "  <tbody>\n",
       "    <tr>\n",
       "      <th>0</th>\n",
       "      <td>2022-04-13 18:24:46+00:00</td>\n",
       "      <td>What are your thoughts on #Decentraland or #MA...</td>\n",
       "      <td>What are your thoughts on or</td>\n",
       "      <td>0.0000</td>\n",
       "      <td>0.000000</td>\n",
       "    </tr>\n",
       "    <tr>\n",
       "      <th>1</th>\n",
       "      <td>2022-04-15 07:23:19+00:00</td>\n",
       "      <td>or retest 38 / 36k that's why I prefer to be f...</td>\n",
       "      <td>or retest 38 / 36k that is why I prefer to be ...</td>\n",
       "      <td>0.0516</td>\n",
       "      <td>0.087500</td>\n",
       "    </tr>\n",
       "    <tr>\n",
       "      <th>2</th>\n",
       "      <td>2022-04-15 20:31:06+00:00</td>\n",
       "      <td>#talks\\n\\n👑johnny\\nCryptoGodJohn:\\nLooking for...</td>\n",
       "      <td>johnny CryptoGodJohn Looking for a either a sw...</td>\n",
       "      <td>-0.2500</td>\n",
       "      <td>0.000000</td>\n",
       "    </tr>\n",
       "    <tr>\n",
       "      <th>3</th>\n",
       "      <td>2022-04-15 22:27:28+00:00</td>\n",
       "      <td>#talks\\n\\n💨woods\\nwoods:\\nLet’s play a game gu...</td>\n",
       "      <td>woods woods Let's play a game guess the chart ...</td>\n",
       "      <td>0.7351</td>\n",
       "      <td>0.197143</td>\n",
       "    </tr>\n",
       "    <tr>\n",
       "      <th>4</th>\n",
       "      <td>2022-04-15 22:27:28+00:00</td>\n",
       "      <td>#talks\\n\\n💨woods\\nwoods:\\nLet’s play a game gu...</td>\n",
       "      <td>woods woods Let's play a game guess the chart ...</td>\n",
       "      <td>0.7351</td>\n",
       "      <td>0.197143</td>\n",
       "    </tr>\n",
       "    <tr>\n",
       "      <th>5</th>\n",
       "      <td>2022-04-20 20:50:34+00:00</td>\n",
       "      <td>\"Decentraland (MANA) Enters a Make-or-Break Le...</td>\n",
       "      <td>\" Decentraland ( MANA ) Enters a Make or Break...</td>\n",
       "      <td>0.2023</td>\n",
       "      <td>0.250000</td>\n",
       "    </tr>\n",
       "  </tbody>\n",
       "</table>\n",
       "</div>"
      ],
      "text/plain": [
       "                        date  \\\n",
       "0  2022-04-13 18:24:46+00:00   \n",
       "1  2022-04-15 07:23:19+00:00   \n",
       "2  2022-04-15 20:31:06+00:00   \n",
       "3  2022-04-15 22:27:28+00:00   \n",
       "4  2022-04-15 22:27:28+00:00   \n",
       "5  2022-04-20 20:50:34+00:00   \n",
       "\n",
       "                                               tweet  \\\n",
       "0  What are your thoughts on #Decentraland or #MA...   \n",
       "1  or retest 38 / 36k that's why I prefer to be f...   \n",
       "2  #talks\\n\\n👑johnny\\nCryptoGodJohn:\\nLooking for...   \n",
       "3  #talks\\n\\n💨woods\\nwoods:\\nLet’s play a game gu...   \n",
       "4  #talks\\n\\n💨woods\\nwoods:\\nLet’s play a game gu...   \n",
       "5  \"Decentraland (MANA) Enters a Make-or-Break Le...   \n",
       "\n",
       "                                          clean_text   vader  textblob  \n",
       "0                       What are your thoughts on or  0.0000  0.000000  \n",
       "1  or retest 38 / 36k that is why I prefer to be ...  0.0516  0.087500  \n",
       "2  johnny CryptoGodJohn Looking for a either a sw... -0.2500  0.000000  \n",
       "3  woods woods Let's play a game guess the chart ...  0.7351  0.197143  \n",
       "4  woods woods Let's play a game guess the chart ...  0.7351  0.197143  \n",
       "5  \" Decentraland ( MANA ) Enters a Make or Break...  0.2023  0.250000  "
      ]
     },
     "execution_count": 14,
     "metadata": {},
     "output_type": "execute_result"
    }
   ],
   "source": [
    "vader_textblob_decentraland_data = sentimental_tweet.twitter_data.sort_values('date').reset_index(drop=True)\n",
    "vader_textblob_decentraland_data"
   ]
  },
  {
   "cell_type": "code",
   "execution_count": 15,
   "id": "f26263dd",
   "metadata": {},
   "outputs": [],
   "source": [
    "vader_textblob_decentraland_data.to_csv('vader_textblob_decentraland_train_data')"
   ]
  },
  {
   "cell_type": "markdown",
   "id": "2ff278ca",
   "metadata": {},
   "source": [
    "## 2.1 MANA Test Data - Processed for Flair\n",
    "\n",
    "- 2022.04.30~2022.05.14"
   ]
  },
  {
   "cell_type": "code",
   "execution_count": 16,
   "id": "ce8513c0",
   "metadata": {},
   "outputs": [
    {
     "data": {
      "text/html": [
       "<div>\n",
       "<style scoped>\n",
       "    .dataframe tbody tr th:only-of-type {\n",
       "        vertical-align: middle;\n",
       "    }\n",
       "\n",
       "    .dataframe tbody tr th {\n",
       "        vertical-align: top;\n",
       "    }\n",
       "\n",
       "    .dataframe thead th {\n",
       "        text-align: right;\n",
       "    }\n",
       "</style>\n",
       "<table border=\"1\" class=\"dataframe\">\n",
       "  <thead>\n",
       "    <tr style=\"text-align: right;\">\n",
       "      <th></th>\n",
       "      <th>date</th>\n",
       "      <th>user_id</th>\n",
       "      <th>user_name</th>\n",
       "      <th>user_screen_name</th>\n",
       "      <th>tweet</th>\n",
       "      <th>retweets</th>\n",
       "      <th>likes</th>\n",
       "      <th>follower_number</th>\n",
       "      <th>following_number</th>\n",
       "    </tr>\n",
       "  </thead>\n",
       "  <tbody>\n",
       "    <tr>\n",
       "      <th>0</th>\n",
       "      <td>2022-04-28 12:48:43+00:00</td>\n",
       "      <td>1486277954653016064</td>\n",
       "      <td>Fiatom.io</td>\n",
       "      <td>Fiatom_io</td>\n",
       "      <td>What is your favourite #metaverse #cryptocurre...</td>\n",
       "      <td>1</td>\n",
       "      <td>1</td>\n",
       "      <td>416</td>\n",
       "      <td>211</td>\n",
       "    </tr>\n",
       "    <tr>\n",
       "      <th>1</th>\n",
       "      <td>2022-05-01 16:50:12+00:00</td>\n",
       "      <td>575197117</td>\n",
       "      <td>Crypto Signal Mall</td>\n",
       "      <td>TopPaidSignals</td>\n",
       "      <td>market-analysis\\nPierre_crypt0#1140: I'd love ...</td>\n",
       "      <td>0</td>\n",
       "      <td>0</td>\n",
       "      <td>550</td>\n",
       "      <td>232</td>\n",
       "    </tr>\n",
       "    <tr>\n",
       "      <th>2</th>\n",
       "      <td>2022-04-28 12:48:43+00:00</td>\n",
       "      <td>1486277954653016064</td>\n",
       "      <td>Fiatom.io</td>\n",
       "      <td>Fiatom_io</td>\n",
       "      <td>What is your favourite #metaverse #cryptocurre...</td>\n",
       "      <td>1</td>\n",
       "      <td>1</td>\n",
       "      <td>415</td>\n",
       "      <td>211</td>\n",
       "    </tr>\n",
       "    <tr>\n",
       "      <th>3</th>\n",
       "      <td>2022-05-01 16:50:12+00:00</td>\n",
       "      <td>575197117</td>\n",
       "      <td>Crypto Signal Mall</td>\n",
       "      <td>TopPaidSignals</td>\n",
       "      <td>market-analysis\\nPierre_crypt0#1140: I'd love ...</td>\n",
       "      <td>0</td>\n",
       "      <td>0</td>\n",
       "      <td>553</td>\n",
       "      <td>231</td>\n",
       "    </tr>\n",
       "    <tr>\n",
       "      <th>4</th>\n",
       "      <td>2022-05-01 16:50:12+00:00</td>\n",
       "      <td>575197117</td>\n",
       "      <td>Crypto Signal Mall</td>\n",
       "      <td>TopPaidSignals</td>\n",
       "      <td>market-analysis\\nPierre_crypt0#1140: I'd love ...</td>\n",
       "      <td>0</td>\n",
       "      <td>0</td>\n",
       "      <td>557</td>\n",
       "      <td>237</td>\n",
       "    </tr>\n",
       "    <tr>\n",
       "      <th>5</th>\n",
       "      <td>2022-05-01 16:50:12+00:00</td>\n",
       "      <td>575197117</td>\n",
       "      <td>Crypto Signal Mall</td>\n",
       "      <td>TopPaidSignals</td>\n",
       "      <td>market-analysis\\nPierre_crypt0#1140: I'd love ...</td>\n",
       "      <td>0</td>\n",
       "      <td>0</td>\n",
       "      <td>556</td>\n",
       "      <td>237</td>\n",
       "    </tr>\n",
       "    <tr>\n",
       "      <th>6</th>\n",
       "      <td>2022-04-28 12:48:43+00:00</td>\n",
       "      <td>1486277954653016064</td>\n",
       "      <td>Fiatom.io</td>\n",
       "      <td>Fiatom_io</td>\n",
       "      <td>What is your favourite #metaverse #cryptocurre...</td>\n",
       "      <td>1</td>\n",
       "      <td>1</td>\n",
       "      <td>417</td>\n",
       "      <td>211</td>\n",
       "    </tr>\n",
       "  </tbody>\n",
       "</table>\n",
       "</div>"
      ],
      "text/plain": [
       "                        date              user_id           user_name  \\\n",
       "0  2022-04-28 12:48:43+00:00  1486277954653016064           Fiatom.io   \n",
       "1  2022-05-01 16:50:12+00:00            575197117  Crypto Signal Mall   \n",
       "2  2022-04-28 12:48:43+00:00  1486277954653016064           Fiatom.io   \n",
       "3  2022-05-01 16:50:12+00:00            575197117  Crypto Signal Mall   \n",
       "4  2022-05-01 16:50:12+00:00            575197117  Crypto Signal Mall   \n",
       "5  2022-05-01 16:50:12+00:00            575197117  Crypto Signal Mall   \n",
       "6  2022-04-28 12:48:43+00:00  1486277954653016064           Fiatom.io   \n",
       "\n",
       "  user_screen_name                                              tweet  \\\n",
       "0        Fiatom_io  What is your favourite #metaverse #cryptocurre...   \n",
       "1   TopPaidSignals  market-analysis\\nPierre_crypt0#1140: I'd love ...   \n",
       "2        Fiatom_io  What is your favourite #metaverse #cryptocurre...   \n",
       "3   TopPaidSignals  market-analysis\\nPierre_crypt0#1140: I'd love ...   \n",
       "4   TopPaidSignals  market-analysis\\nPierre_crypt0#1140: I'd love ...   \n",
       "5   TopPaidSignals  market-analysis\\nPierre_crypt0#1140: I'd love ...   \n",
       "6        Fiatom_io  What is your favourite #metaverse #cryptocurre...   \n",
       "\n",
       "  retweets likes follower_number following_number  \n",
       "0        1     1             416              211  \n",
       "1        0     0             550              232  \n",
       "2        1     1             415              211  \n",
       "3        0     0             553              231  \n",
       "4        0     0             557              237  \n",
       "5        0     0             556              237  \n",
       "6        1     1             417              211  "
      ]
     },
     "execution_count": 16,
     "metadata": {},
     "output_type": "execute_result"
    }
   ],
   "source": [
    "#tweet data 2022.04.14~2022.04.28\n",
    "date=\"2022-05-\"\n",
    "decentraland_test_df = []\n",
    "d_concat = data_concat()\n",
    "\n",
    "for i in range(1,16):\n",
    "    day =''\n",
    "    if i < 10 : \n",
    "        day='0'+str(i)\n",
    "    else : \n",
    "        day = str(i)\n",
    "    decentraland_test_df.append(pd.read_csv('./decentraland/MANA OR decentraland_'+date+day, \n",
    "                                  encoding='utf-8', on_bad_lines='skip').drop('number',axis=1))\n",
    "decentraland_test_df.append(pd.read_csv('./decentraland/MANA OR decentraland_2022-04-30', \n",
    "                                  encoding='utf-8', on_bad_lines='skip').drop('number',axis=1))\n",
    "decentraland_test_data = d_concat.concat(decentraland_test_df)\n",
    "decentraland_test_data"
   ]
  },
  {
   "cell_type": "code",
   "execution_count": 17,
   "id": "dbba3e19",
   "metadata": {},
   "outputs": [
    {
     "data": {
      "text/plain": [
       "date                0\n",
       "user_id             0\n",
       "user_name           0\n",
       "user_screen_name    0\n",
       "tweet               0\n",
       "retweets            0\n",
       "likes               0\n",
       "follower_number     0\n",
       "following_number    0\n",
       "dtype: int64"
      ]
     },
     "execution_count": 17,
     "metadata": {},
     "output_type": "execute_result"
    }
   ],
   "source": [
    "decentraland_test_data.isna().sum()"
   ]
  },
  {
   "cell_type": "code",
   "execution_count": 18,
   "id": "106367d3",
   "metadata": {},
   "outputs": [
    {
     "data": {
      "text/plain": [
       "date                0\n",
       "user_id             0\n",
       "user_name           0\n",
       "user_screen_name    0\n",
       "tweet               0\n",
       "retweets            0\n",
       "likes               0\n",
       "follower_number     0\n",
       "following_number    0\n",
       "dtype: int64"
      ]
     },
     "execution_count": 18,
     "metadata": {},
     "output_type": "execute_result"
    }
   ],
   "source": [
    "decentraland_test_data = decentraland_test_data.dropna()\n",
    "decentraland_test_data.isna().sum()"
   ]
  },
  {
   "cell_type": "code",
   "execution_count": 19,
   "id": "6dffde1d",
   "metadata": {
    "scrolled": false
   },
   "outputs": [
    {
     "data": {
      "text/html": [
       "<div>\n",
       "<style scoped>\n",
       "    .dataframe tbody tr th:only-of-type {\n",
       "        vertical-align: middle;\n",
       "    }\n",
       "\n",
       "    .dataframe tbody tr th {\n",
       "        vertical-align: top;\n",
       "    }\n",
       "\n",
       "    .dataframe thead th {\n",
       "        text-align: right;\n",
       "    }\n",
       "</style>\n",
       "<table border=\"1\" class=\"dataframe\">\n",
       "  <thead>\n",
       "    <tr style=\"text-align: right;\">\n",
       "      <th></th>\n",
       "      <th>date</th>\n",
       "      <th>user_id</th>\n",
       "      <th>user_name</th>\n",
       "      <th>user_screen_name</th>\n",
       "      <th>tweet</th>\n",
       "      <th>retweets</th>\n",
       "      <th>likes</th>\n",
       "      <th>follower_number</th>\n",
       "      <th>following_number</th>\n",
       "    </tr>\n",
       "  </thead>\n",
       "  <tbody>\n",
       "    <tr>\n",
       "      <th>0</th>\n",
       "      <td>2022-04-28 12:48:43+00:00</td>\n",
       "      <td>1486277954653016064</td>\n",
       "      <td>Fiatom.io</td>\n",
       "      <td>Fiatom_io</td>\n",
       "      <td>What is your favourite #metaverse #cryptocurre...</td>\n",
       "      <td>1</td>\n",
       "      <td>1</td>\n",
       "      <td>416</td>\n",
       "      <td>211</td>\n",
       "    </tr>\n",
       "    <tr>\n",
       "      <th>1</th>\n",
       "      <td>2022-04-28 12:48:43+00:00</td>\n",
       "      <td>1486277954653016064</td>\n",
       "      <td>Fiatom.io</td>\n",
       "      <td>Fiatom_io</td>\n",
       "      <td>What is your favourite #metaverse #cryptocurre...</td>\n",
       "      <td>1</td>\n",
       "      <td>1</td>\n",
       "      <td>415</td>\n",
       "      <td>211</td>\n",
       "    </tr>\n",
       "    <tr>\n",
       "      <th>2</th>\n",
       "      <td>2022-04-28 12:48:43+00:00</td>\n",
       "      <td>1486277954653016064</td>\n",
       "      <td>Fiatom.io</td>\n",
       "      <td>Fiatom_io</td>\n",
       "      <td>What is your favourite #metaverse #cryptocurre...</td>\n",
       "      <td>1</td>\n",
       "      <td>1</td>\n",
       "      <td>417</td>\n",
       "      <td>211</td>\n",
       "    </tr>\n",
       "    <tr>\n",
       "      <th>3</th>\n",
       "      <td>2022-05-01 16:50:12+00:00</td>\n",
       "      <td>575197117</td>\n",
       "      <td>Crypto Signal Mall</td>\n",
       "      <td>TopPaidSignals</td>\n",
       "      <td>market-analysis\\nPierre_crypt0#1140: I'd love ...</td>\n",
       "      <td>0</td>\n",
       "      <td>0</td>\n",
       "      <td>550</td>\n",
       "      <td>232</td>\n",
       "    </tr>\n",
       "    <tr>\n",
       "      <th>4</th>\n",
       "      <td>2022-05-01 16:50:12+00:00</td>\n",
       "      <td>575197117</td>\n",
       "      <td>Crypto Signal Mall</td>\n",
       "      <td>TopPaidSignals</td>\n",
       "      <td>market-analysis\\nPierre_crypt0#1140: I'd love ...</td>\n",
       "      <td>0</td>\n",
       "      <td>0</td>\n",
       "      <td>553</td>\n",
       "      <td>231</td>\n",
       "    </tr>\n",
       "    <tr>\n",
       "      <th>5</th>\n",
       "      <td>2022-05-01 16:50:12+00:00</td>\n",
       "      <td>575197117</td>\n",
       "      <td>Crypto Signal Mall</td>\n",
       "      <td>TopPaidSignals</td>\n",
       "      <td>market-analysis\\nPierre_crypt0#1140: I'd love ...</td>\n",
       "      <td>0</td>\n",
       "      <td>0</td>\n",
       "      <td>557</td>\n",
       "      <td>237</td>\n",
       "    </tr>\n",
       "    <tr>\n",
       "      <th>6</th>\n",
       "      <td>2022-05-01 16:50:12+00:00</td>\n",
       "      <td>575197117</td>\n",
       "      <td>Crypto Signal Mall</td>\n",
       "      <td>TopPaidSignals</td>\n",
       "      <td>market-analysis\\nPierre_crypt0#1140: I'd love ...</td>\n",
       "      <td>0</td>\n",
       "      <td>0</td>\n",
       "      <td>556</td>\n",
       "      <td>237</td>\n",
       "    </tr>\n",
       "  </tbody>\n",
       "</table>\n",
       "</div>"
      ],
      "text/plain": [
       "                        date              user_id           user_name  \\\n",
       "0  2022-04-28 12:48:43+00:00  1486277954653016064           Fiatom.io   \n",
       "1  2022-04-28 12:48:43+00:00  1486277954653016064           Fiatom.io   \n",
       "2  2022-04-28 12:48:43+00:00  1486277954653016064           Fiatom.io   \n",
       "3  2022-05-01 16:50:12+00:00            575197117  Crypto Signal Mall   \n",
       "4  2022-05-01 16:50:12+00:00            575197117  Crypto Signal Mall   \n",
       "5  2022-05-01 16:50:12+00:00            575197117  Crypto Signal Mall   \n",
       "6  2022-05-01 16:50:12+00:00            575197117  Crypto Signal Mall   \n",
       "\n",
       "  user_screen_name                                              tweet  \\\n",
       "0        Fiatom_io  What is your favourite #metaverse #cryptocurre...   \n",
       "1        Fiatom_io  What is your favourite #metaverse #cryptocurre...   \n",
       "2        Fiatom_io  What is your favourite #metaverse #cryptocurre...   \n",
       "3   TopPaidSignals  market-analysis\\nPierre_crypt0#1140: I'd love ...   \n",
       "4   TopPaidSignals  market-analysis\\nPierre_crypt0#1140: I'd love ...   \n",
       "5   TopPaidSignals  market-analysis\\nPierre_crypt0#1140: I'd love ...   \n",
       "6   TopPaidSignals  market-analysis\\nPierre_crypt0#1140: I'd love ...   \n",
       "\n",
       "  retweets likes follower_number following_number  \n",
       "0        1     1             416              211  \n",
       "1        1     1             415              211  \n",
       "2        1     1             417              211  \n",
       "3        0     0             550              232  \n",
       "4        0     0             553              231  \n",
       "5        0     0             557              237  \n",
       "6        0     0             556              237  "
      ]
     },
     "execution_count": 19,
     "metadata": {},
     "output_type": "execute_result"
    }
   ],
   "source": [
    "# 데이터 저장\n",
    "decentraland_test_data = decentraland_test_data.sort_values('date').reset_index(drop=True)\n",
    "decentraland_test_data.to_csv('decentraland_test_data')\n",
    "decentraland_test_data"
   ]
  },
  {
   "cell_type": "code",
   "execution_count": 20,
   "id": "8c7dd69d",
   "metadata": {},
   "outputs": [],
   "source": [
    "flair_test_cardano = decentraland_test_data[['date','tweet']]"
   ]
  },
  {
   "cell_type": "code",
   "execution_count": 21,
   "id": "3fe2ca41",
   "metadata": {},
   "outputs": [],
   "source": [
    "sentimental_tweet = sentimental_analysis(flair_test_cardano)"
   ]
  },
  {
   "cell_type": "code",
   "execution_count": 22,
   "id": "db68b1dc",
   "metadata": {},
   "outputs": [
    {
     "name": "stderr",
     "output_type": "stream",
     "text": [
      "100%|███████████████████████████████████████████| 7/7 [00:00<00:00, 4554.78it/s]"
     ]
    },
    {
     "name": "stdout",
     "output_type": "stream",
     "text": [
      "process time :  0.0039539337158203125\n"
     ]
    },
    {
     "name": "stderr",
     "output_type": "stream",
     "text": [
      "\n"
     ]
    },
    {
     "data": {
      "text/html": [
       "<div>\n",
       "<style scoped>\n",
       "    .dataframe tbody tr th:only-of-type {\n",
       "        vertical-align: middle;\n",
       "    }\n",
       "\n",
       "    .dataframe tbody tr th {\n",
       "        vertical-align: top;\n",
       "    }\n",
       "\n",
       "    .dataframe thead th {\n",
       "        text-align: right;\n",
       "    }\n",
       "</style>\n",
       "<table border=\"1\" class=\"dataframe\">\n",
       "  <thead>\n",
       "    <tr style=\"text-align: right;\">\n",
       "      <th></th>\n",
       "      <th>date</th>\n",
       "      <th>tweet</th>\n",
       "      <th>clean_text</th>\n",
       "      <th>flair</th>\n",
       "    </tr>\n",
       "  </thead>\n",
       "  <tbody>\n",
       "    <tr>\n",
       "      <th>0</th>\n",
       "      <td>2022-04-28 12:48:43+00:00</td>\n",
       "      <td>What is your favourite #metaverse #cryptocurre...</td>\n",
       "      <td>What is your favourite nowadays Here is our li...</td>\n",
       "      <td>NaN</td>\n",
       "    </tr>\n",
       "    <tr>\n",
       "      <th>1</th>\n",
       "      <td>2022-04-28 12:48:43+00:00</td>\n",
       "      <td>What is your favourite #metaverse #cryptocurre...</td>\n",
       "      <td>What is your favourite nowadays Here is our li...</td>\n",
       "      <td>NaN</td>\n",
       "    </tr>\n",
       "    <tr>\n",
       "      <th>2</th>\n",
       "      <td>2022-04-28 12:48:43+00:00</td>\n",
       "      <td>What is your favourite #metaverse #cryptocurre...</td>\n",
       "      <td>What is your favourite nowadays Here is our li...</td>\n",
       "      <td>NaN</td>\n",
       "    </tr>\n",
       "    <tr>\n",
       "      <th>3</th>\n",
       "      <td>2022-05-01 16:50:12+00:00</td>\n",
       "      <td>market-analysis\\nPierre_crypt0#1140: I'd love ...</td>\n",
       "      <td>market analysis Pierre_crypt 0 I would love to...</td>\n",
       "      <td>NaN</td>\n",
       "    </tr>\n",
       "    <tr>\n",
       "      <th>4</th>\n",
       "      <td>2022-05-01 16:50:12+00:00</td>\n",
       "      <td>market-analysis\\nPierre_crypt0#1140: I'd love ...</td>\n",
       "      <td>market analysis Pierre_crypt 0 I would love to...</td>\n",
       "      <td>NaN</td>\n",
       "    </tr>\n",
       "    <tr>\n",
       "      <th>5</th>\n",
       "      <td>2022-05-01 16:50:12+00:00</td>\n",
       "      <td>market-analysis\\nPierre_crypt0#1140: I'd love ...</td>\n",
       "      <td>market analysis Pierre_crypt 0 I would love to...</td>\n",
       "      <td>NaN</td>\n",
       "    </tr>\n",
       "    <tr>\n",
       "      <th>6</th>\n",
       "      <td>2022-05-01 16:50:12+00:00</td>\n",
       "      <td>market-analysis\\nPierre_crypt0#1140: I'd love ...</td>\n",
       "      <td>market analysis Pierre_crypt 0 I would love to...</td>\n",
       "      <td>NaN</td>\n",
       "    </tr>\n",
       "  </tbody>\n",
       "</table>\n",
       "</div>"
      ],
      "text/plain": [
       "                        date  \\\n",
       "0  2022-04-28 12:48:43+00:00   \n",
       "1  2022-04-28 12:48:43+00:00   \n",
       "2  2022-04-28 12:48:43+00:00   \n",
       "3  2022-05-01 16:50:12+00:00   \n",
       "4  2022-05-01 16:50:12+00:00   \n",
       "5  2022-05-01 16:50:12+00:00   \n",
       "6  2022-05-01 16:50:12+00:00   \n",
       "\n",
       "                                               tweet  \\\n",
       "0  What is your favourite #metaverse #cryptocurre...   \n",
       "1  What is your favourite #metaverse #cryptocurre...   \n",
       "2  What is your favourite #metaverse #cryptocurre...   \n",
       "3  market-analysis\\nPierre_crypt0#1140: I'd love ...   \n",
       "4  market-analysis\\nPierre_crypt0#1140: I'd love ...   \n",
       "5  market-analysis\\nPierre_crypt0#1140: I'd love ...   \n",
       "6  market-analysis\\nPierre_crypt0#1140: I'd love ...   \n",
       "\n",
       "                                          clean_text  flair  \n",
       "0  What is your favourite nowadays Here is our li...    NaN  \n",
       "1  What is your favourite nowadays Here is our li...    NaN  \n",
       "2  What is your favourite nowadays Here is our li...    NaN  \n",
       "3  market analysis Pierre_crypt 0 I would love to...    NaN  \n",
       "4  market analysis Pierre_crypt 0 I would love to...    NaN  \n",
       "5  market analysis Pierre_crypt 0 I would love to...    NaN  \n",
       "6  market analysis Pierre_crypt 0 I would love to...    NaN  "
      ]
     },
     "execution_count": 22,
     "metadata": {},
     "output_type": "execute_result"
    }
   ],
   "source": [
    "sentimental_tweet.process('flair')\n",
    "flair_processed_decentraland_test = sentimental_tweet.twitter_data.drop('vader',axis=1)\n",
    "flair_processed_decentraland_test"
   ]
  },
  {
   "cell_type": "code",
   "execution_count": 23,
   "id": "311fd5fb",
   "metadata": {},
   "outputs": [
    {
     "data": {
      "text/html": [
       "<div>\n",
       "<style scoped>\n",
       "    .dataframe tbody tr th:only-of-type {\n",
       "        vertical-align: middle;\n",
       "    }\n",
       "\n",
       "    .dataframe tbody tr th {\n",
       "        vertical-align: top;\n",
       "    }\n",
       "\n",
       "    .dataframe thead th {\n",
       "        text-align: right;\n",
       "    }\n",
       "</style>\n",
       "<table border=\"1\" class=\"dataframe\">\n",
       "  <thead>\n",
       "    <tr style=\"text-align: right;\">\n",
       "      <th></th>\n",
       "      <th>date</th>\n",
       "      <th>tweet</th>\n",
       "      <th>clean_text</th>\n",
       "      <th>flair</th>\n",
       "    </tr>\n",
       "  </thead>\n",
       "  <tbody>\n",
       "    <tr>\n",
       "      <th>0</th>\n",
       "      <td>2022-04-28 12:48:43+00:00</td>\n",
       "      <td>What is your favourite #metaverse #cryptocurre...</td>\n",
       "      <td>What is your favourite nowadays Here is our li...</td>\n",
       "      <td>NaN</td>\n",
       "    </tr>\n",
       "    <tr>\n",
       "      <th>1</th>\n",
       "      <td>2022-04-28 12:48:43+00:00</td>\n",
       "      <td>What is your favourite #metaverse #cryptocurre...</td>\n",
       "      <td>What is your favourite nowadays Here is our li...</td>\n",
       "      <td>NaN</td>\n",
       "    </tr>\n",
       "    <tr>\n",
       "      <th>2</th>\n",
       "      <td>2022-04-28 12:48:43+00:00</td>\n",
       "      <td>What is your favourite #metaverse #cryptocurre...</td>\n",
       "      <td>What is your favourite nowadays Here is our li...</td>\n",
       "      <td>NaN</td>\n",
       "    </tr>\n",
       "    <tr>\n",
       "      <th>3</th>\n",
       "      <td>2022-05-01 16:50:12+00:00</td>\n",
       "      <td>market-analysis\\nPierre_crypt0#1140: I'd love ...</td>\n",
       "      <td>market analysis Pierre_crypt 0 I would love to...</td>\n",
       "      <td>NaN</td>\n",
       "    </tr>\n",
       "    <tr>\n",
       "      <th>4</th>\n",
       "      <td>2022-05-01 16:50:12+00:00</td>\n",
       "      <td>market-analysis\\nPierre_crypt0#1140: I'd love ...</td>\n",
       "      <td>market analysis Pierre_crypt 0 I would love to...</td>\n",
       "      <td>NaN</td>\n",
       "    </tr>\n",
       "    <tr>\n",
       "      <th>5</th>\n",
       "      <td>2022-05-01 16:50:12+00:00</td>\n",
       "      <td>market-analysis\\nPierre_crypt0#1140: I'd love ...</td>\n",
       "      <td>market analysis Pierre_crypt 0 I would love to...</td>\n",
       "      <td>NaN</td>\n",
       "    </tr>\n",
       "    <tr>\n",
       "      <th>6</th>\n",
       "      <td>2022-05-01 16:50:12+00:00</td>\n",
       "      <td>market-analysis\\nPierre_crypt0#1140: I'd love ...</td>\n",
       "      <td>market analysis Pierre_crypt 0 I would love to...</td>\n",
       "      <td>NaN</td>\n",
       "    </tr>\n",
       "  </tbody>\n",
       "</table>\n",
       "</div>"
      ],
      "text/plain": [
       "                        date  \\\n",
       "0  2022-04-28 12:48:43+00:00   \n",
       "1  2022-04-28 12:48:43+00:00   \n",
       "2  2022-04-28 12:48:43+00:00   \n",
       "3  2022-05-01 16:50:12+00:00   \n",
       "4  2022-05-01 16:50:12+00:00   \n",
       "5  2022-05-01 16:50:12+00:00   \n",
       "6  2022-05-01 16:50:12+00:00   \n",
       "\n",
       "                                               tweet  \\\n",
       "0  What is your favourite #metaverse #cryptocurre...   \n",
       "1  What is your favourite #metaverse #cryptocurre...   \n",
       "2  What is your favourite #metaverse #cryptocurre...   \n",
       "3  market-analysis\\nPierre_crypt0#1140: I'd love ...   \n",
       "4  market-analysis\\nPierre_crypt0#1140: I'd love ...   \n",
       "5  market-analysis\\nPierre_crypt0#1140: I'd love ...   \n",
       "6  market-analysis\\nPierre_crypt0#1140: I'd love ...   \n",
       "\n",
       "                                          clean_text  flair  \n",
       "0  What is your favourite nowadays Here is our li...    NaN  \n",
       "1  What is your favourite nowadays Here is our li...    NaN  \n",
       "2  What is your favourite nowadays Here is our li...    NaN  \n",
       "3  market analysis Pierre_crypt 0 I would love to...    NaN  \n",
       "4  market analysis Pierre_crypt 0 I would love to...    NaN  \n",
       "5  market analysis Pierre_crypt 0 I would love to...    NaN  \n",
       "6  market analysis Pierre_crypt 0 I would love to...    NaN  "
      ]
     },
     "execution_count": 23,
     "metadata": {},
     "output_type": "execute_result"
    }
   ],
   "source": [
    "flair_processed_decentraland_test.to_csv('flair_processed_decentraland_test_data')\n",
    "pd.read_csv('flair_processed_decentraland_test_data').drop('Unnamed: 0',axis=1)"
   ]
  },
  {
   "cell_type": "markdown",
   "id": "df93c5b7",
   "metadata": {},
   "source": [
    "## 2.2 Vader, Textblob 감성분석 진행"
   ]
  },
  {
   "cell_type": "markdown",
   "id": "5e637440",
   "metadata": {},
   "source": [
    "- Vader 감성 분석"
   ]
  },
  {
   "cell_type": "code",
   "execution_count": 24,
   "id": "fcae5c7a",
   "metadata": {},
   "outputs": [
    {
     "name": "stderr",
     "output_type": "stream",
     "text": [
      "100%|███████████████████████████████████████████| 7/7 [00:00<00:00, 3328.44it/s]\n"
     ]
    },
    {
     "name": "stdout",
     "output_type": "stream",
     "text": [
      "process time :  0.004164934158325195\n"
     ]
    },
    {
     "name": "stderr",
     "output_type": "stream",
     "text": [
      "100%|███████████████████████████████████████████| 7/7 [00:00<00:00, 6829.53it/s]"
     ]
    },
    {
     "name": "stdout",
     "output_type": "stream",
     "text": [
      "vader sentimental time :  0.005480051040649414\n"
     ]
    },
    {
     "name": "stderr",
     "output_type": "stream",
     "text": [
      "\n"
     ]
    }
   ],
   "source": [
    "sentimental_tweet.process('vader')\n",
    "sentimental_tweet.sentimental_with_vader()"
   ]
  },
  {
   "cell_type": "markdown",
   "id": "9903e8c7",
   "metadata": {},
   "source": [
    "- Textblob 감성 분석"
   ]
  },
  {
   "cell_type": "code",
   "execution_count": 25,
   "id": "b16454b2",
   "metadata": {},
   "outputs": [
    {
     "name": "stderr",
     "output_type": "stream",
     "text": [
      "100%|███████████████████████████████████████████| 7/7 [00:00<00:00, 3312.66it/s]\n"
     ]
    },
    {
     "name": "stdout",
     "output_type": "stream",
     "text": [
      "process time :  0.004703998565673828\n"
     ]
    },
    {
     "name": "stderr",
     "output_type": "stream",
     "text": [
      "100%|███████████████████████████████████████████| 7/7 [00:00<00:00, 3132.08it/s]"
     ]
    },
    {
     "name": "stdout",
     "output_type": "stream",
     "text": [
      "textblob sentimental time :  0.0032949447631835938\n"
     ]
    },
    {
     "name": "stderr",
     "output_type": "stream",
     "text": [
      "\n"
     ]
    }
   ],
   "source": [
    "sentimental_tweet.process('textblob')\n",
    "sentimental_tweet.sentimental_with_textblob()"
   ]
  },
  {
   "cell_type": "code",
   "execution_count": 26,
   "id": "1d87862a",
   "metadata": {},
   "outputs": [
    {
     "data": {
      "text/html": [
       "<div>\n",
       "<style scoped>\n",
       "    .dataframe tbody tr th:only-of-type {\n",
       "        vertical-align: middle;\n",
       "    }\n",
       "\n",
       "    .dataframe tbody tr th {\n",
       "        vertical-align: top;\n",
       "    }\n",
       "\n",
       "    .dataframe thead th {\n",
       "        text-align: right;\n",
       "    }\n",
       "</style>\n",
       "<table border=\"1\" class=\"dataframe\">\n",
       "  <thead>\n",
       "    <tr style=\"text-align: right;\">\n",
       "      <th></th>\n",
       "      <th>date</th>\n",
       "      <th>tweet</th>\n",
       "      <th>clean_text</th>\n",
       "      <th>vader</th>\n",
       "      <th>textblob</th>\n",
       "    </tr>\n",
       "  </thead>\n",
       "  <tbody>\n",
       "    <tr>\n",
       "      <th>0</th>\n",
       "      <td>2022-04-28 12:48:43+00:00</td>\n",
       "      <td>What is your favourite #metaverse #cryptocurre...</td>\n",
       "      <td>what is your favourite nowadays here is our li...</td>\n",
       "      <td>0.0000</td>\n",
       "      <td>0.000000</td>\n",
       "    </tr>\n",
       "    <tr>\n",
       "      <th>1</th>\n",
       "      <td>2022-04-28 12:48:43+00:00</td>\n",
       "      <td>What is your favourite #metaverse #cryptocurre...</td>\n",
       "      <td>what is your favourite nowadays here is our li...</td>\n",
       "      <td>0.0000</td>\n",
       "      <td>0.000000</td>\n",
       "    </tr>\n",
       "    <tr>\n",
       "      <th>2</th>\n",
       "      <td>2022-04-28 12:48:43+00:00</td>\n",
       "      <td>What is your favourite #metaverse #cryptocurre...</td>\n",
       "      <td>what is your favourite nowadays here is our li...</td>\n",
       "      <td>0.0000</td>\n",
       "      <td>0.000000</td>\n",
       "    </tr>\n",
       "    <tr>\n",
       "      <th>3</th>\n",
       "      <td>2022-05-01 16:50:12+00:00</td>\n",
       "      <td>market-analysis\\nPierre_crypt0#1140: I'd love ...</td>\n",
       "      <td>market analysis pierre_crypt 0 i would love to...</td>\n",
       "      <td>0.7579</td>\n",
       "      <td>0.266667</td>\n",
       "    </tr>\n",
       "    <tr>\n",
       "      <th>4</th>\n",
       "      <td>2022-05-01 16:50:12+00:00</td>\n",
       "      <td>market-analysis\\nPierre_crypt0#1140: I'd love ...</td>\n",
       "      <td>market analysis pierre_crypt 0 i would love to...</td>\n",
       "      <td>0.7579</td>\n",
       "      <td>0.266667</td>\n",
       "    </tr>\n",
       "    <tr>\n",
       "      <th>5</th>\n",
       "      <td>2022-05-01 16:50:12+00:00</td>\n",
       "      <td>market-analysis\\nPierre_crypt0#1140: I'd love ...</td>\n",
       "      <td>market analysis pierre_crypt 0 i would love to...</td>\n",
       "      <td>0.7579</td>\n",
       "      <td>0.266667</td>\n",
       "    </tr>\n",
       "    <tr>\n",
       "      <th>6</th>\n",
       "      <td>2022-05-01 16:50:12+00:00</td>\n",
       "      <td>market-analysis\\nPierre_crypt0#1140: I'd love ...</td>\n",
       "      <td>market analysis pierre_crypt 0 i would love to...</td>\n",
       "      <td>0.7579</td>\n",
       "      <td>0.266667</td>\n",
       "    </tr>\n",
       "  </tbody>\n",
       "</table>\n",
       "</div>"
      ],
      "text/plain": [
       "                        date  \\\n",
       "0  2022-04-28 12:48:43+00:00   \n",
       "1  2022-04-28 12:48:43+00:00   \n",
       "2  2022-04-28 12:48:43+00:00   \n",
       "3  2022-05-01 16:50:12+00:00   \n",
       "4  2022-05-01 16:50:12+00:00   \n",
       "5  2022-05-01 16:50:12+00:00   \n",
       "6  2022-05-01 16:50:12+00:00   \n",
       "\n",
       "                                               tweet  \\\n",
       "0  What is your favourite #metaverse #cryptocurre...   \n",
       "1  What is your favourite #metaverse #cryptocurre...   \n",
       "2  What is your favourite #metaverse #cryptocurre...   \n",
       "3  market-analysis\\nPierre_crypt0#1140: I'd love ...   \n",
       "4  market-analysis\\nPierre_crypt0#1140: I'd love ...   \n",
       "5  market-analysis\\nPierre_crypt0#1140: I'd love ...   \n",
       "6  market-analysis\\nPierre_crypt0#1140: I'd love ...   \n",
       "\n",
       "                                          clean_text   vader  textblob  \n",
       "0  what is your favourite nowadays here is our li...  0.0000  0.000000  \n",
       "1  what is your favourite nowadays here is our li...  0.0000  0.000000  \n",
       "2  what is your favourite nowadays here is our li...  0.0000  0.000000  \n",
       "3  market analysis pierre_crypt 0 i would love to...  0.7579  0.266667  \n",
       "4  market analysis pierre_crypt 0 i would love to...  0.7579  0.266667  \n",
       "5  market analysis pierre_crypt 0 i would love to...  0.7579  0.266667  \n",
       "6  market analysis pierre_crypt 0 i would love to...  0.7579  0.266667  "
      ]
     },
     "execution_count": 26,
     "metadata": {},
     "output_type": "execute_result"
    }
   ],
   "source": [
    "sentimental_tweet.twitter_data = sentimental_tweet.twitter_data.drop('flair',axis=1)\n",
    "sentimental_tweet.twitter_data"
   ]
  },
  {
   "cell_type": "code",
   "execution_count": 27,
   "id": "fa82b3cf",
   "metadata": {},
   "outputs": [
    {
     "data": {
      "text/html": [
       "<div>\n",
       "<style scoped>\n",
       "    .dataframe tbody tr th:only-of-type {\n",
       "        vertical-align: middle;\n",
       "    }\n",
       "\n",
       "    .dataframe tbody tr th {\n",
       "        vertical-align: top;\n",
       "    }\n",
       "\n",
       "    .dataframe thead th {\n",
       "        text-align: right;\n",
       "    }\n",
       "</style>\n",
       "<table border=\"1\" class=\"dataframe\">\n",
       "  <thead>\n",
       "    <tr style=\"text-align: right;\">\n",
       "      <th></th>\n",
       "      <th>Unnamed: 0</th>\n",
       "      <th>date</th>\n",
       "      <th>tweet</th>\n",
       "      <th>clean_text</th>\n",
       "      <th>vader</th>\n",
       "      <th>textblob</th>\n",
       "    </tr>\n",
       "  </thead>\n",
       "  <tbody>\n",
       "    <tr>\n",
       "      <th>0</th>\n",
       "      <td>0</td>\n",
       "      <td>2022-04-28 12:48:43+00:00</td>\n",
       "      <td>What is your favourite #metaverse #cryptocurre...</td>\n",
       "      <td>what is your favourite nowadays here is our li...</td>\n",
       "      <td>0.0000</td>\n",
       "      <td>0.000000</td>\n",
       "    </tr>\n",
       "    <tr>\n",
       "      <th>1</th>\n",
       "      <td>1</td>\n",
       "      <td>2022-04-28 12:48:43+00:00</td>\n",
       "      <td>What is your favourite #metaverse #cryptocurre...</td>\n",
       "      <td>what is your favourite nowadays here is our li...</td>\n",
       "      <td>0.0000</td>\n",
       "      <td>0.000000</td>\n",
       "    </tr>\n",
       "    <tr>\n",
       "      <th>2</th>\n",
       "      <td>2</td>\n",
       "      <td>2022-04-28 12:48:43+00:00</td>\n",
       "      <td>What is your favourite #metaverse #cryptocurre...</td>\n",
       "      <td>what is your favourite nowadays here is our li...</td>\n",
       "      <td>0.0000</td>\n",
       "      <td>0.000000</td>\n",
       "    </tr>\n",
       "    <tr>\n",
       "      <th>3</th>\n",
       "      <td>3</td>\n",
       "      <td>2022-05-01 16:50:12+00:00</td>\n",
       "      <td>market-analysis\\nPierre_crypt0#1140: I'd love ...</td>\n",
       "      <td>market analysis pierre_crypt 0 i would love to...</td>\n",
       "      <td>0.7579</td>\n",
       "      <td>0.266667</td>\n",
       "    </tr>\n",
       "    <tr>\n",
       "      <th>4</th>\n",
       "      <td>4</td>\n",
       "      <td>2022-05-01 16:50:12+00:00</td>\n",
       "      <td>market-analysis\\nPierre_crypt0#1140: I'd love ...</td>\n",
       "      <td>market analysis pierre_crypt 0 i would love to...</td>\n",
       "      <td>0.7579</td>\n",
       "      <td>0.266667</td>\n",
       "    </tr>\n",
       "    <tr>\n",
       "      <th>5</th>\n",
       "      <td>5</td>\n",
       "      <td>2022-05-01 16:50:12+00:00</td>\n",
       "      <td>market-analysis\\nPierre_crypt0#1140: I'd love ...</td>\n",
       "      <td>market analysis pierre_crypt 0 i would love to...</td>\n",
       "      <td>0.7579</td>\n",
       "      <td>0.266667</td>\n",
       "    </tr>\n",
       "    <tr>\n",
       "      <th>6</th>\n",
       "      <td>6</td>\n",
       "      <td>2022-05-01 16:50:12+00:00</td>\n",
       "      <td>market-analysis\\nPierre_crypt0#1140: I'd love ...</td>\n",
       "      <td>market analysis pierre_crypt 0 i would love to...</td>\n",
       "      <td>0.7579</td>\n",
       "      <td>0.266667</td>\n",
       "    </tr>\n",
       "  </tbody>\n",
       "</table>\n",
       "</div>"
      ],
      "text/plain": [
       "   Unnamed: 0                       date  \\\n",
       "0           0  2022-04-28 12:48:43+00:00   \n",
       "1           1  2022-04-28 12:48:43+00:00   \n",
       "2           2  2022-04-28 12:48:43+00:00   \n",
       "3           3  2022-05-01 16:50:12+00:00   \n",
       "4           4  2022-05-01 16:50:12+00:00   \n",
       "5           5  2022-05-01 16:50:12+00:00   \n",
       "6           6  2022-05-01 16:50:12+00:00   \n",
       "\n",
       "                                               tweet  \\\n",
       "0  What is your favourite #metaverse #cryptocurre...   \n",
       "1  What is your favourite #metaverse #cryptocurre...   \n",
       "2  What is your favourite #metaverse #cryptocurre...   \n",
       "3  market-analysis\\nPierre_crypt0#1140: I'd love ...   \n",
       "4  market-analysis\\nPierre_crypt0#1140: I'd love ...   \n",
       "5  market-analysis\\nPierre_crypt0#1140: I'd love ...   \n",
       "6  market-analysis\\nPierre_crypt0#1140: I'd love ...   \n",
       "\n",
       "                                          clean_text   vader  textblob  \n",
       "0  what is your favourite nowadays here is our li...  0.0000  0.000000  \n",
       "1  what is your favourite nowadays here is our li...  0.0000  0.000000  \n",
       "2  what is your favourite nowadays here is our li...  0.0000  0.000000  \n",
       "3  market analysis pierre_crypt 0 i would love to...  0.7579  0.266667  \n",
       "4  market analysis pierre_crypt 0 i would love to...  0.7579  0.266667  \n",
       "5  market analysis pierre_crypt 0 i would love to...  0.7579  0.266667  \n",
       "6  market analysis pierre_crypt 0 i would love to...  0.7579  0.266667  "
      ]
     },
     "execution_count": 27,
     "metadata": {},
     "output_type": "execute_result"
    }
   ],
   "source": [
    "vader_textblob_decentraland_test_data = sentimental_tweet.twitter_data\n",
    "vader_textblob_decentraland_test_data.to_csv('vader_textblob_decentraland_test_data')\n",
    "pd.read_csv('vader_textblob_decentraland_test_data')"
   ]
  }
 ],
 "metadata": {
  "kernelspec": {
   "display_name": "Python 3 (ipykernel)",
   "language": "python",
   "name": "python3"
  },
  "language_info": {
   "codemirror_mode": {
    "name": "ipython",
    "version": 3
   },
   "file_extension": ".py",
   "mimetype": "text/x-python",
   "name": "python",
   "nbconvert_exporter": "python",
   "pygments_lexer": "ipython3",
   "version": "3.9.10"
  }
 },
 "nbformat": 4,
 "nbformat_minor": 5
}

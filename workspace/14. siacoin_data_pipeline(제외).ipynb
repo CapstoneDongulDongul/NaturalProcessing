{
 "cells": [
  {
   "cell_type": "markdown",
   "id": "29afdccb",
   "metadata": {},
   "source": [
    "# 필요한 라이브러리 import"
   ]
  },
  {
   "cell_type": "code",
   "execution_count": 1,
   "id": "79c650f7",
   "metadata": {},
   "outputs": [],
   "source": [
    "import pandas as pd\n",
    "from data_concat import data_concat\n",
    "from sentimentalAnalysis import sentimental_analysis\n",
    "from sentimentalAnalysis import sentimental_analysis"
   ]
  },
  {
   "cell_type": "markdown",
   "id": "74f72def",
   "metadata": {},
   "source": [
    "## 2.1 SIC Train Data - Processed for Flair\n",
    "\n",
    "- 전처리 이후 김도영 학우에게 전달하여 학습할 데이터\n",
    "- 2022.04.13~2022.04.27"
   ]
  },
  {
   "cell_type": "code",
   "execution_count": 2,
   "id": "1b5a6c84",
   "metadata": {},
   "outputs": [],
   "source": [
    "#tweet data 2022.04.14~2022.04.28\n",
    "date=\"2022-04-\"\n",
    "d_concat = data_concat()\n",
    "siacoin_df = []\n",
    "\n",
    "for i in range(14,29):\n",
    "    siacoin_df.append(pd.read_csv('./siacoin/SC OR siacoin_'+date+str(i), \n",
    "                                  encoding='utf-8', on_bad_lines='skip').drop('number',axis=1))\n",
    "\n",
    "siacoin_data = d_concat.concat(siacoin_df)"
   ]
  },
  {
   "cell_type": "code",
   "execution_count": 3,
   "id": "3cc358c7",
   "metadata": {
    "scrolled": true
   },
   "outputs": [
    {
     "data": {
      "text/plain": [
       "date                0\n",
       "user_id             0\n",
       "user_name           0\n",
       "user_screen_name    0\n",
       "tweet               0\n",
       "retweets            0\n",
       "likes               0\n",
       "follower_number     0\n",
       "following_number    0\n",
       "dtype: int64"
      ]
     },
     "execution_count": 3,
     "metadata": {},
     "output_type": "execute_result"
    }
   ],
   "source": [
    "siacoin_data.isna().sum()"
   ]
  },
  {
   "cell_type": "code",
   "execution_count": 4,
   "id": "5404c424",
   "metadata": {},
   "outputs": [
    {
     "data": {
      "text/plain": [
       "date                0\n",
       "user_id             0\n",
       "user_name           0\n",
       "user_screen_name    0\n",
       "tweet               0\n",
       "retweets            0\n",
       "likes               0\n",
       "follower_number     0\n",
       "following_number    0\n",
       "dtype: int64"
      ]
     },
     "execution_count": 4,
     "metadata": {},
     "output_type": "execute_result"
    }
   ],
   "source": [
    "siacoin_data= siacoin_data.dropna()\n",
    "siacoin_data.isna().sum()"
   ]
  },
  {
   "cell_type": "code",
   "execution_count": 5,
   "id": "6de8262f",
   "metadata": {
    "scrolled": false
   },
   "outputs": [
    {
     "data": {
      "text/html": [
       "<div>\n",
       "<style scoped>\n",
       "    .dataframe tbody tr th:only-of-type {\n",
       "        vertical-align: middle;\n",
       "    }\n",
       "\n",
       "    .dataframe tbody tr th {\n",
       "        vertical-align: top;\n",
       "    }\n",
       "\n",
       "    .dataframe thead th {\n",
       "        text-align: right;\n",
       "    }\n",
       "</style>\n",
       "<table border=\"1\" class=\"dataframe\">\n",
       "  <thead>\n",
       "    <tr style=\"text-align: right;\">\n",
       "      <th></th>\n",
       "      <th>date</th>\n",
       "      <th>user_id</th>\n",
       "      <th>user_name</th>\n",
       "      <th>user_screen_name</th>\n",
       "      <th>tweet</th>\n",
       "      <th>retweets</th>\n",
       "      <th>likes</th>\n",
       "      <th>follower_number</th>\n",
       "      <th>following_number</th>\n",
       "    </tr>\n",
       "  </thead>\n",
       "  <tbody>\n",
       "    <tr>\n",
       "      <th>0</th>\n",
       "      <td>2022-04-16 22:12:25+00:00</td>\n",
       "      <td>575197117</td>\n",
       "      <td>Crypto Signal Mall</td>\n",
       "      <td>TopPaidSignals</td>\n",
       "      <td>is BTC following GMT or GMT following BTC ?\\n-...</td>\n",
       "      <td>0</td>\n",
       "      <td>0</td>\n",
       "      <td>480</td>\n",
       "      <td>230</td>\n",
       "    </tr>\n",
       "    <tr>\n",
       "      <th>1</th>\n",
       "      <td>2022-04-25 07:08:32+00:00</td>\n",
       "      <td>575197117</td>\n",
       "      <td>Crypto Signal Mall</td>\n",
       "      <td>TopPaidSignals</td>\n",
       "      <td>Life is good when you win a trade no matter bu...</td>\n",
       "      <td>0</td>\n",
       "      <td>0</td>\n",
       "      <td>520</td>\n",
       "      <td>232</td>\n",
       "    </tr>\n",
       "  </tbody>\n",
       "</table>\n",
       "</div>"
      ],
      "text/plain": [
       "                        date    user_id           user_name user_screen_name  \\\n",
       "0  2022-04-16 22:12:25+00:00  575197117  Crypto Signal Mall   TopPaidSignals   \n",
       "1  2022-04-25 07:08:32+00:00  575197117  Crypto Signal Mall   TopPaidSignals   \n",
       "\n",
       "                                               tweet retweets likes  \\\n",
       "0  is BTC following GMT or GMT following BTC ?\\n-...        0     0   \n",
       "1  Life is good when you win a trade no matter bu...        0     0   \n",
       "\n",
       "  follower_number following_number  \n",
       "0             480              230  \n",
       "1             520              232  "
      ]
     },
     "execution_count": 5,
     "metadata": {},
     "output_type": "execute_result"
    }
   ],
   "source": [
    "# 데이터 저장\n",
    "siacoin_data = siacoin_data.sort_values('date').reset_index(drop=True)\n",
    "siacoin_data.to_csv('siacoin_train_data')\n",
    "siacoin_data"
   ]
  },
  {
   "cell_type": "code",
   "execution_count": 6,
   "id": "5dd7ec30",
   "metadata": {},
   "outputs": [],
   "source": [
    "flair_siacoin = siacoin_data[['date','tweet']]"
   ]
  },
  {
   "cell_type": "code",
   "execution_count": 7,
   "id": "bff76bb3",
   "metadata": {},
   "outputs": [],
   "source": [
    "sentimental_tweet = sentimental_analysis(flair_siacoin)"
   ]
  },
  {
   "cell_type": "code",
   "execution_count": 8,
   "id": "908fd3b4",
   "metadata": {},
   "outputs": [
    {
     "name": "stderr",
     "output_type": "stream",
     "text": [
      "100%|████████████████████████████████████████████| 2/2 [00:00<00:00, 211.19it/s]"
     ]
    },
    {
     "name": "stdout",
     "output_type": "stream",
     "text": [
      "process time :  0.031295061111450195\n"
     ]
    },
    {
     "name": "stderr",
     "output_type": "stream",
     "text": [
      "\n"
     ]
    },
    {
     "data": {
      "text/html": [
       "<div>\n",
       "<style scoped>\n",
       "    .dataframe tbody tr th:only-of-type {\n",
       "        vertical-align: middle;\n",
       "    }\n",
       "\n",
       "    .dataframe tbody tr th {\n",
       "        vertical-align: top;\n",
       "    }\n",
       "\n",
       "    .dataframe thead th {\n",
       "        text-align: right;\n",
       "    }\n",
       "</style>\n",
       "<table border=\"1\" class=\"dataframe\">\n",
       "  <thead>\n",
       "    <tr style=\"text-align: right;\">\n",
       "      <th></th>\n",
       "      <th>date</th>\n",
       "      <th>tweet</th>\n",
       "      <th>clean_text</th>\n",
       "      <th>flair</th>\n",
       "    </tr>\n",
       "  </thead>\n",
       "  <tbody>\n",
       "    <tr>\n",
       "      <th>0</th>\n",
       "      <td>2022-04-16 22:12:25+00:00</td>\n",
       "      <td>is BTC following GMT or GMT following BTC ?\\n-...</td>\n",
       "      <td>is BTC following GMT or GMT following BTC Tele...</td>\n",
       "      <td>NaN</td>\n",
       "    </tr>\n",
       "    <tr>\n",
       "      <th>1</th>\n",
       "      <td>2022-04-25 07:08:32+00:00</td>\n",
       "      <td>Life is good when you win a trade no matter bu...</td>\n",
       "      <td>Life is good when you win a trade no matter bu...</td>\n",
       "      <td>NaN</td>\n",
       "    </tr>\n",
       "  </tbody>\n",
       "</table>\n",
       "</div>"
      ],
      "text/plain": [
       "                        date  \\\n",
       "0  2022-04-16 22:12:25+00:00   \n",
       "1  2022-04-25 07:08:32+00:00   \n",
       "\n",
       "                                               tweet  \\\n",
       "0  is BTC following GMT or GMT following BTC ?\\n-...   \n",
       "1  Life is good when you win a trade no matter bu...   \n",
       "\n",
       "                                          clean_text  flair  \n",
       "0  is BTC following GMT or GMT following BTC Tele...    NaN  \n",
       "1  Life is good when you win a trade no matter bu...    NaN  "
      ]
     },
     "execution_count": 8,
     "metadata": {},
     "output_type": "execute_result"
    }
   ],
   "source": [
    "sentimental_tweet.process('flair')\n",
    "flair_processed_siacoin = sentimental_tweet.twitter_data.drop('vader',axis=1)\n",
    "flair_processed_siacoin"
   ]
  },
  {
   "cell_type": "code",
   "execution_count": 9,
   "id": "d4074e31",
   "metadata": {},
   "outputs": [],
   "source": [
    "flair_processed_siacoin.to_csv('flair_processed_siacoin_train_data')"
   ]
  },
  {
   "cell_type": "code",
   "execution_count": 10,
   "id": "ea6784ca",
   "metadata": {
    "scrolled": false
   },
   "outputs": [
    {
     "data": {
      "text/html": [
       "<div>\n",
       "<style scoped>\n",
       "    .dataframe tbody tr th:only-of-type {\n",
       "        vertical-align: middle;\n",
       "    }\n",
       "\n",
       "    .dataframe tbody tr th {\n",
       "        vertical-align: top;\n",
       "    }\n",
       "\n",
       "    .dataframe thead th {\n",
       "        text-align: right;\n",
       "    }\n",
       "</style>\n",
       "<table border=\"1\" class=\"dataframe\">\n",
       "  <thead>\n",
       "    <tr style=\"text-align: right;\">\n",
       "      <th></th>\n",
       "      <th>date</th>\n",
       "      <th>tweet</th>\n",
       "      <th>clean_text</th>\n",
       "      <th>flair</th>\n",
       "    </tr>\n",
       "  </thead>\n",
       "  <tbody>\n",
       "    <tr>\n",
       "      <th>0</th>\n",
       "      <td>2022-04-16 22:12:25+00:00</td>\n",
       "      <td>is BTC following GMT or GMT following BTC ?\\n-...</td>\n",
       "      <td>is BTC following GMT or GMT following BTC Tele...</td>\n",
       "      <td>NaN</td>\n",
       "    </tr>\n",
       "    <tr>\n",
       "      <th>1</th>\n",
       "      <td>2022-04-25 07:08:32+00:00</td>\n",
       "      <td>Life is good when you win a trade no matter bu...</td>\n",
       "      <td>Life is good when you win a trade no matter bu...</td>\n",
       "      <td>NaN</td>\n",
       "    </tr>\n",
       "  </tbody>\n",
       "</table>\n",
       "</div>"
      ],
      "text/plain": [
       "                        date  \\\n",
       "0  2022-04-16 22:12:25+00:00   \n",
       "1  2022-04-25 07:08:32+00:00   \n",
       "\n",
       "                                               tweet  \\\n",
       "0  is BTC following GMT or GMT following BTC ?\\n-...   \n",
       "1  Life is good when you win a trade no matter bu...   \n",
       "\n",
       "                                          clean_text  flair  \n",
       "0  is BTC following GMT or GMT following BTC Tele...    NaN  \n",
       "1  Life is good when you win a trade no matter bu...    NaN  "
      ]
     },
     "execution_count": 10,
     "metadata": {},
     "output_type": "execute_result"
    }
   ],
   "source": [
    "pd.read_csv('flair_processed_siacoin_train_data').drop('Unnamed: 0',axis=1)"
   ]
  },
  {
   "cell_type": "markdown",
   "id": "2ca051c9",
   "metadata": {},
   "source": [
    "## 2.2 Vader, Textblob 감성분석 진행"
   ]
  },
  {
   "cell_type": "markdown",
   "id": "91a79915",
   "metadata": {},
   "source": [
    "- Textblob 감성 분석"
   ]
  },
  {
   "cell_type": "code",
   "execution_count": 11,
   "id": "79a6a730",
   "metadata": {},
   "outputs": [
    {
     "name": "stderr",
     "output_type": "stream",
     "text": [
      "100%|███████████████████████████████████████████| 2/2 [00:00<00:00, 1692.96it/s]\n"
     ]
    },
    {
     "name": "stdout",
     "output_type": "stream",
     "text": [
      "process time :  0.004428863525390625\n"
     ]
    },
    {
     "name": "stderr",
     "output_type": "stream",
     "text": [
      "100%|█████████████████████████████████████████████| 2/2 [00:00<00:00, 70.26it/s]"
     ]
    },
    {
     "name": "stdout",
     "output_type": "stream",
     "text": [
      "textblob sentimental time :  0.029549837112426758\n"
     ]
    },
    {
     "name": "stderr",
     "output_type": "stream",
     "text": [
      "\n"
     ]
    }
   ],
   "source": [
    "sentimental_tweet.process('textblob')\n",
    "sentimental_tweet.sentimental_with_textblob()"
   ]
  },
  {
   "cell_type": "markdown",
   "id": "51ff4062",
   "metadata": {},
   "source": [
    "- Vader 감성 분석"
   ]
  },
  {
   "cell_type": "code",
   "execution_count": 12,
   "id": "7e0c8bb8",
   "metadata": {},
   "outputs": [
    {
     "name": "stderr",
     "output_type": "stream",
     "text": [
      "100%|███████████████████████████████████████████| 2/2 [00:00<00:00, 2872.81it/s]\n"
     ]
    },
    {
     "name": "stdout",
     "output_type": "stream",
     "text": [
      "process time :  0.003464221954345703\n"
     ]
    },
    {
     "name": "stderr",
     "output_type": "stream",
     "text": [
      "100%|███████████████████████████████████████████| 2/2 [00:00<00:00, 3272.96it/s]"
     ]
    },
    {
     "name": "stdout",
     "output_type": "stream",
     "text": [
      "vader sentimental time :  0.007519245147705078\n"
     ]
    },
    {
     "name": "stderr",
     "output_type": "stream",
     "text": [
      "\n"
     ]
    }
   ],
   "source": [
    "sentimental_tweet.process('vader')\n",
    "sentimental_tweet.sentimental_with_vader()"
   ]
  },
  {
   "cell_type": "code",
   "execution_count": 13,
   "id": "724289a0",
   "metadata": {},
   "outputs": [
    {
     "data": {
      "text/html": [
       "<div>\n",
       "<style scoped>\n",
       "    .dataframe tbody tr th:only-of-type {\n",
       "        vertical-align: middle;\n",
       "    }\n",
       "\n",
       "    .dataframe tbody tr th {\n",
       "        vertical-align: top;\n",
       "    }\n",
       "\n",
       "    .dataframe thead th {\n",
       "        text-align: right;\n",
       "    }\n",
       "</style>\n",
       "<table border=\"1\" class=\"dataframe\">\n",
       "  <thead>\n",
       "    <tr style=\"text-align: right;\">\n",
       "      <th></th>\n",
       "      <th>date</th>\n",
       "      <th>tweet</th>\n",
       "      <th>clean_text</th>\n",
       "      <th>vader</th>\n",
       "      <th>textblob</th>\n",
       "    </tr>\n",
       "  </thead>\n",
       "  <tbody>\n",
       "    <tr>\n",
       "      <th>0</th>\n",
       "      <td>2022-04-16 22:12:25+00:00</td>\n",
       "      <td>is BTC following GMT or GMT following BTC ?\\n-...</td>\n",
       "      <td>is BTC following GMT or GMT following BTC Tele...</td>\n",
       "      <td>0.5106</td>\n",
       "      <td>0.00</td>\n",
       "    </tr>\n",
       "    <tr>\n",
       "      <th>1</th>\n",
       "      <td>2022-04-25 07:08:32+00:00</td>\n",
       "      <td>Life is good when you win a trade no matter bu...</td>\n",
       "      <td>Life is good when you win a trade no matter bu...</td>\n",
       "      <td>0.8360</td>\n",
       "      <td>0.75</td>\n",
       "    </tr>\n",
       "  </tbody>\n",
       "</table>\n",
       "</div>"
      ],
      "text/plain": [
       "                        date  \\\n",
       "0  2022-04-16 22:12:25+00:00   \n",
       "1  2022-04-25 07:08:32+00:00   \n",
       "\n",
       "                                               tweet  \\\n",
       "0  is BTC following GMT or GMT following BTC ?\\n-...   \n",
       "1  Life is good when you win a trade no matter bu...   \n",
       "\n",
       "                                          clean_text   vader  textblob  \n",
       "0  is BTC following GMT or GMT following BTC Tele...  0.5106      0.00  \n",
       "1  Life is good when you win a trade no matter bu...  0.8360      0.75  "
      ]
     },
     "execution_count": 13,
     "metadata": {},
     "output_type": "execute_result"
    }
   ],
   "source": [
    "sentimental_tweet.twitter_data = sentimental_tweet.twitter_data.drop('flair',axis=1)\n",
    "sentimental_tweet.twitter_data"
   ]
  },
  {
   "cell_type": "code",
   "execution_count": 14,
   "id": "0f067e6c",
   "metadata": {},
   "outputs": [
    {
     "data": {
      "text/html": [
       "<div>\n",
       "<style scoped>\n",
       "    .dataframe tbody tr th:only-of-type {\n",
       "        vertical-align: middle;\n",
       "    }\n",
       "\n",
       "    .dataframe tbody tr th {\n",
       "        vertical-align: top;\n",
       "    }\n",
       "\n",
       "    .dataframe thead th {\n",
       "        text-align: right;\n",
       "    }\n",
       "</style>\n",
       "<table border=\"1\" class=\"dataframe\">\n",
       "  <thead>\n",
       "    <tr style=\"text-align: right;\">\n",
       "      <th></th>\n",
       "      <th>date</th>\n",
       "      <th>tweet</th>\n",
       "      <th>clean_text</th>\n",
       "      <th>vader</th>\n",
       "      <th>textblob</th>\n",
       "    </tr>\n",
       "  </thead>\n",
       "  <tbody>\n",
       "    <tr>\n",
       "      <th>0</th>\n",
       "      <td>2022-04-16 22:12:25+00:00</td>\n",
       "      <td>is BTC following GMT or GMT following BTC ?\\n-...</td>\n",
       "      <td>is BTC following GMT or GMT following BTC Tele...</td>\n",
       "      <td>0.5106</td>\n",
       "      <td>0.00</td>\n",
       "    </tr>\n",
       "    <tr>\n",
       "      <th>1</th>\n",
       "      <td>2022-04-25 07:08:32+00:00</td>\n",
       "      <td>Life is good when you win a trade no matter bu...</td>\n",
       "      <td>Life is good when you win a trade no matter bu...</td>\n",
       "      <td>0.8360</td>\n",
       "      <td>0.75</td>\n",
       "    </tr>\n",
       "  </tbody>\n",
       "</table>\n",
       "</div>"
      ],
      "text/plain": [
       "                        date  \\\n",
       "0  2022-04-16 22:12:25+00:00   \n",
       "1  2022-04-25 07:08:32+00:00   \n",
       "\n",
       "                                               tweet  \\\n",
       "0  is BTC following GMT or GMT following BTC ?\\n-...   \n",
       "1  Life is good when you win a trade no matter bu...   \n",
       "\n",
       "                                          clean_text   vader  textblob  \n",
       "0  is BTC following GMT or GMT following BTC Tele...  0.5106      0.00  \n",
       "1  Life is good when you win a trade no matter bu...  0.8360      0.75  "
      ]
     },
     "execution_count": 14,
     "metadata": {},
     "output_type": "execute_result"
    }
   ],
   "source": [
    "vader_textblob_siacoin_data = sentimental_tweet.twitter_data.sort_values('date').reset_index(drop=True)\n",
    "vader_textblob_siacoin_data"
   ]
  },
  {
   "cell_type": "code",
   "execution_count": 15,
   "id": "f26263dd",
   "metadata": {},
   "outputs": [],
   "source": [
    "vader_textblob_siacoin_data.to_csv('vader_textblob_csiacoin_train_data')"
   ]
  },
  {
   "cell_type": "markdown",
   "id": "2ff278ca",
   "metadata": {},
   "source": [
    "## 2.1 SIACOIN Test Data - Processed for Flair\n",
    "\n",
    "- 2022.04.30~2022.05.14"
   ]
  },
  {
   "cell_type": "code",
   "execution_count": 16,
   "id": "ce8513c0",
   "metadata": {},
   "outputs": [
    {
     "data": {
      "text/html": [
       "<div>\n",
       "<style scoped>\n",
       "    .dataframe tbody tr th:only-of-type {\n",
       "        vertical-align: middle;\n",
       "    }\n",
       "\n",
       "    .dataframe tbody tr th {\n",
       "        vertical-align: top;\n",
       "    }\n",
       "\n",
       "    .dataframe thead th {\n",
       "        text-align: right;\n",
       "    }\n",
       "</style>\n",
       "<table border=\"1\" class=\"dataframe\">\n",
       "  <thead>\n",
       "    <tr style=\"text-align: right;\">\n",
       "      <th></th>\n",
       "      <th>date</th>\n",
       "      <th>user_id</th>\n",
       "      <th>user_name</th>\n",
       "      <th>user_screen_name</th>\n",
       "      <th>tweet</th>\n",
       "      <th>retweets</th>\n",
       "      <th>likes</th>\n",
       "      <th>follower_number</th>\n",
       "      <th>following_number</th>\n",
       "    </tr>\n",
       "  </thead>\n",
       "  <tbody>\n",
       "    <tr>\n",
       "      <th>0</th>\n",
       "      <td>date</td>\n",
       "      <td>user_id</td>\n",
       "      <td>user_name</td>\n",
       "      <td>user_screen_name</td>\n",
       "      <td>tweet</td>\n",
       "      <td>retweets</td>\n",
       "      <td>likes</td>\n",
       "      <td>follower_number</td>\n",
       "      <td>following_number</td>\n",
       "    </tr>\n",
       "  </tbody>\n",
       "</table>\n",
       "</div>"
      ],
      "text/plain": [
       "   date  user_id  user_name  user_screen_name  tweet  retweets  likes  \\\n",
       "0  date  user_id  user_name  user_screen_name  tweet  retweets  likes   \n",
       "\n",
       "   follower_number  following_number  \n",
       "0  follower_number  following_number  "
      ]
     },
     "execution_count": 16,
     "metadata": {},
     "output_type": "execute_result"
    }
   ],
   "source": [
    "#tweet data 2022.04.14~2022.04.28\n",
    "date=\"2022-05-\"\n",
    "siacoin_test_df = []\n",
    "d_concat = data_concat()\n",
    "\n",
    "for i in range(1,16):\n",
    "    day =''\n",
    "    if i < 10 : \n",
    "        day='0'+str(i)\n",
    "    else : \n",
    "        day = str(i)\n",
    "    siacoin_test_df.append(pd.read_csv('./siacoin/SC OR siacoin_'+date+day, \n",
    "                                  encoding='utf-8', on_bad_lines='skip').drop('number',axis=1))\n",
    "siacoin_test_df.append(pd.read_csv('./siacoin/SC OR siacoin_2022-04-30', \n",
    "                                  encoding='utf-8', on_bad_lines='skip').drop('number',axis=1))\n",
    "siacoin_test_data = d_concat.concat(siacoin_test_df)\n",
    "siacoin_test_data"
   ]
  },
  {
   "cell_type": "code",
   "execution_count": 17,
   "id": "dbba3e19",
   "metadata": {},
   "outputs": [
    {
     "data": {
      "text/plain": [
       "date                0\n",
       "user_id             0\n",
       "user_name           0\n",
       "user_screen_name    0\n",
       "tweet               0\n",
       "retweets            0\n",
       "likes               0\n",
       "follower_number     0\n",
       "following_number    0\n",
       "dtype: int64"
      ]
     },
     "execution_count": 17,
     "metadata": {},
     "output_type": "execute_result"
    }
   ],
   "source": [
    "siacoin_test_data.isna().sum()"
   ]
  },
  {
   "cell_type": "code",
   "execution_count": 18,
   "id": "106367d3",
   "metadata": {},
   "outputs": [
    {
     "data": {
      "text/plain": [
       "date                0\n",
       "user_id             0\n",
       "user_name           0\n",
       "user_screen_name    0\n",
       "tweet               0\n",
       "retweets            0\n",
       "likes               0\n",
       "follower_number     0\n",
       "following_number    0\n",
       "dtype: int64"
      ]
     },
     "execution_count": 18,
     "metadata": {},
     "output_type": "execute_result"
    }
   ],
   "source": [
    "siacoin_test_data = siacoin_test_data.dropna()\n",
    "siacoin_test_data.isna().sum()"
   ]
  },
  {
   "cell_type": "code",
   "execution_count": 19,
   "id": "6dffde1d",
   "metadata": {
    "scrolled": false
   },
   "outputs": [
    {
     "data": {
      "text/html": [
       "<div>\n",
       "<style scoped>\n",
       "    .dataframe tbody tr th:only-of-type {\n",
       "        vertical-align: middle;\n",
       "    }\n",
       "\n",
       "    .dataframe tbody tr th {\n",
       "        vertical-align: top;\n",
       "    }\n",
       "\n",
       "    .dataframe thead th {\n",
       "        text-align: right;\n",
       "    }\n",
       "</style>\n",
       "<table border=\"1\" class=\"dataframe\">\n",
       "  <thead>\n",
       "    <tr style=\"text-align: right;\">\n",
       "      <th></th>\n",
       "      <th>date</th>\n",
       "      <th>user_id</th>\n",
       "      <th>user_name</th>\n",
       "      <th>user_screen_name</th>\n",
       "      <th>tweet</th>\n",
       "      <th>retweets</th>\n",
       "      <th>likes</th>\n",
       "      <th>follower_number</th>\n",
       "      <th>following_number</th>\n",
       "    </tr>\n",
       "  </thead>\n",
       "  <tbody>\n",
       "    <tr>\n",
       "      <th>0</th>\n",
       "      <td>date</td>\n",
       "      <td>user_id</td>\n",
       "      <td>user_name</td>\n",
       "      <td>user_screen_name</td>\n",
       "      <td>tweet</td>\n",
       "      <td>retweets</td>\n",
       "      <td>likes</td>\n",
       "      <td>follower_number</td>\n",
       "      <td>following_number</td>\n",
       "    </tr>\n",
       "  </tbody>\n",
       "</table>\n",
       "</div>"
      ],
      "text/plain": [
       "   date  user_id  user_name  user_screen_name  tweet  retweets  likes  \\\n",
       "0  date  user_id  user_name  user_screen_name  tweet  retweets  likes   \n",
       "\n",
       "   follower_number  following_number  \n",
       "0  follower_number  following_number  "
      ]
     },
     "execution_count": 19,
     "metadata": {},
     "output_type": "execute_result"
    }
   ],
   "source": [
    "# 데이터 저장\n",
    "siacoin_test_data = siacoin_test_data.sort_values('date').reset_index(drop=True)\n",
    "siacoin_test_data.to_csv('siacoin_test_data')\n",
    "siacoin_test_data"
   ]
  },
  {
   "cell_type": "code",
   "execution_count": 20,
   "id": "8c7dd69d",
   "metadata": {},
   "outputs": [],
   "source": [
    "flair_test_siacoin = siacoin_test_data[['date','tweet']]"
   ]
  },
  {
   "cell_type": "code",
   "execution_count": 21,
   "id": "3fe2ca41",
   "metadata": {},
   "outputs": [],
   "source": [
    "sentimental_tweet = sentimental_analysis(flair_test_siacoin)"
   ]
  },
  {
   "cell_type": "code",
   "execution_count": 22,
   "id": "db68b1dc",
   "metadata": {},
   "outputs": [
    {
     "name": "stderr",
     "output_type": "stream",
     "text": [
      "100%|███████████████████████████████████████████| 1/1 [00:00<00:00, 3688.92it/s]"
     ]
    },
    {
     "name": "stdout",
     "output_type": "stream",
     "text": [
      "process time :  0.002827882766723633\n"
     ]
    },
    {
     "name": "stderr",
     "output_type": "stream",
     "text": [
      "\n"
     ]
    },
    {
     "data": {
      "text/html": [
       "<div>\n",
       "<style scoped>\n",
       "    .dataframe tbody tr th:only-of-type {\n",
       "        vertical-align: middle;\n",
       "    }\n",
       "\n",
       "    .dataframe tbody tr th {\n",
       "        vertical-align: top;\n",
       "    }\n",
       "\n",
       "    .dataframe thead th {\n",
       "        text-align: right;\n",
       "    }\n",
       "</style>\n",
       "<table border=\"1\" class=\"dataframe\">\n",
       "  <thead>\n",
       "    <tr style=\"text-align: right;\">\n",
       "      <th></th>\n",
       "      <th>date</th>\n",
       "      <th>tweet</th>\n",
       "      <th>clean_text</th>\n",
       "      <th>flair</th>\n",
       "    </tr>\n",
       "  </thead>\n",
       "  <tbody>\n",
       "    <tr>\n",
       "      <th>0</th>\n",
       "      <td>date</td>\n",
       "      <td>tweet</td>\n",
       "      <td>tweet</td>\n",
       "      <td>NaN</td>\n",
       "    </tr>\n",
       "  </tbody>\n",
       "</table>\n",
       "</div>"
      ],
      "text/plain": [
       "   date  tweet clean_text  flair\n",
       "0  date  tweet      tweet    NaN"
      ]
     },
     "execution_count": 22,
     "metadata": {},
     "output_type": "execute_result"
    }
   ],
   "source": [
    "sentimental_tweet.process('flair')\n",
    "flair_processed_siacoin_test = sentimental_tweet.twitter_data.drop('vader',axis=1)\n",
    "flair_processed_siacoin_test"
   ]
  },
  {
   "cell_type": "code",
   "execution_count": 23,
   "id": "311fd5fb",
   "metadata": {},
   "outputs": [
    {
     "data": {
      "text/html": [
       "<div>\n",
       "<style scoped>\n",
       "    .dataframe tbody tr th:only-of-type {\n",
       "        vertical-align: middle;\n",
       "    }\n",
       "\n",
       "    .dataframe tbody tr th {\n",
       "        vertical-align: top;\n",
       "    }\n",
       "\n",
       "    .dataframe thead th {\n",
       "        text-align: right;\n",
       "    }\n",
       "</style>\n",
       "<table border=\"1\" class=\"dataframe\">\n",
       "  <thead>\n",
       "    <tr style=\"text-align: right;\">\n",
       "      <th></th>\n",
       "      <th>date</th>\n",
       "      <th>tweet</th>\n",
       "      <th>clean_text</th>\n",
       "      <th>flair</th>\n",
       "    </tr>\n",
       "  </thead>\n",
       "  <tbody>\n",
       "    <tr>\n",
       "      <th>0</th>\n",
       "      <td>date</td>\n",
       "      <td>tweet</td>\n",
       "      <td>tweet</td>\n",
       "      <td>NaN</td>\n",
       "    </tr>\n",
       "  </tbody>\n",
       "</table>\n",
       "</div>"
      ],
      "text/plain": [
       "   date  tweet clean_text  flair\n",
       "0  date  tweet      tweet    NaN"
      ]
     },
     "execution_count": 23,
     "metadata": {},
     "output_type": "execute_result"
    }
   ],
   "source": [
    "flair_processed_siacoin_test.to_csv('flair_processed_siacoin_test_data')\n",
    "pd.read_csv('flair_processed_siacoin_test_data').drop('Unnamed: 0',axis=1)"
   ]
  },
  {
   "cell_type": "markdown",
   "id": "df93c5b7",
   "metadata": {},
   "source": [
    "## 2.2 Vader, Textblob 감성분석 진행"
   ]
  },
  {
   "cell_type": "markdown",
   "id": "5e637440",
   "metadata": {},
   "source": [
    "- Vader 감성 분석"
   ]
  },
  {
   "cell_type": "code",
   "execution_count": 24,
   "id": "fcae5c7a",
   "metadata": {},
   "outputs": [
    {
     "name": "stderr",
     "output_type": "stream",
     "text": [
      "100%|███████████████████████████████████████████| 1/1 [00:00<00:00, 4975.45it/s]\n"
     ]
    },
    {
     "name": "stdout",
     "output_type": "stream",
     "text": [
      "process time :  0.002871990203857422\n"
     ]
    },
    {
     "name": "stderr",
     "output_type": "stream",
     "text": [
      "100%|███████████████████████████████████████████| 1/1 [00:00<00:00, 2786.91it/s]"
     ]
    },
    {
     "name": "stdout",
     "output_type": "stream",
     "text": [
      "vader sentimental time :  0.006186246871948242\n"
     ]
    },
    {
     "name": "stderr",
     "output_type": "stream",
     "text": [
      "\n"
     ]
    }
   ],
   "source": [
    "sentimental_tweet.process('vader')\n",
    "sentimental_tweet.sentimental_with_vader()"
   ]
  },
  {
   "cell_type": "markdown",
   "id": "9903e8c7",
   "metadata": {},
   "source": [
    "- Textblob 감성 분석"
   ]
  },
  {
   "cell_type": "code",
   "execution_count": 25,
   "id": "b16454b2",
   "metadata": {},
   "outputs": [
    {
     "name": "stderr",
     "output_type": "stream",
     "text": [
      "100%|███████████████████████████████████████████| 1/1 [00:00<00:00, 3647.22it/s]\n"
     ]
    },
    {
     "name": "stdout",
     "output_type": "stream",
     "text": [
      "process time :  0.0039038658142089844\n"
     ]
    },
    {
     "name": "stderr",
     "output_type": "stream",
     "text": [
      "100%|███████████████████████████████████████████| 1/1 [00:00<00:00, 2933.08it/s]"
     ]
    },
    {
     "name": "stdout",
     "output_type": "stream",
     "text": [
      "textblob sentimental time :  0.0012080669403076172\n"
     ]
    },
    {
     "name": "stderr",
     "output_type": "stream",
     "text": [
      "\n"
     ]
    }
   ],
   "source": [
    "sentimental_tweet.process('textblob')\n",
    "sentimental_tweet.sentimental_with_textblob()"
   ]
  },
  {
   "cell_type": "code",
   "execution_count": 26,
   "id": "1d87862a",
   "metadata": {},
   "outputs": [
    {
     "data": {
      "text/html": [
       "<div>\n",
       "<style scoped>\n",
       "    .dataframe tbody tr th:only-of-type {\n",
       "        vertical-align: middle;\n",
       "    }\n",
       "\n",
       "    .dataframe tbody tr th {\n",
       "        vertical-align: top;\n",
       "    }\n",
       "\n",
       "    .dataframe thead th {\n",
       "        text-align: right;\n",
       "    }\n",
       "</style>\n",
       "<table border=\"1\" class=\"dataframe\">\n",
       "  <thead>\n",
       "    <tr style=\"text-align: right;\">\n",
       "      <th></th>\n",
       "      <th>date</th>\n",
       "      <th>tweet</th>\n",
       "      <th>clean_text</th>\n",
       "      <th>vader</th>\n",
       "      <th>textblob</th>\n",
       "    </tr>\n",
       "  </thead>\n",
       "  <tbody>\n",
       "    <tr>\n",
       "      <th>0</th>\n",
       "      <td>date</td>\n",
       "      <td>tweet</td>\n",
       "      <td>tweet</td>\n",
       "      <td>0.0</td>\n",
       "      <td>0.0</td>\n",
       "    </tr>\n",
       "  </tbody>\n",
       "</table>\n",
       "</div>"
      ],
      "text/plain": [
       "   date  tweet clean_text  vader  textblob\n",
       "0  date  tweet      tweet    0.0       0.0"
      ]
     },
     "execution_count": 26,
     "metadata": {},
     "output_type": "execute_result"
    }
   ],
   "source": [
    "sentimental_tweet.twitter_data = sentimental_tweet.twitter_data.drop('flair',axis=1)\n",
    "sentimental_tweet.twitter_data"
   ]
  },
  {
   "cell_type": "code",
   "execution_count": 27,
   "id": "fa82b3cf",
   "metadata": {},
   "outputs": [
    {
     "data": {
      "text/html": [
       "<div>\n",
       "<style scoped>\n",
       "    .dataframe tbody tr th:only-of-type {\n",
       "        vertical-align: middle;\n",
       "    }\n",
       "\n",
       "    .dataframe tbody tr th {\n",
       "        vertical-align: top;\n",
       "    }\n",
       "\n",
       "    .dataframe thead th {\n",
       "        text-align: right;\n",
       "    }\n",
       "</style>\n",
       "<table border=\"1\" class=\"dataframe\">\n",
       "  <thead>\n",
       "    <tr style=\"text-align: right;\">\n",
       "      <th></th>\n",
       "      <th>Unnamed: 0</th>\n",
       "      <th>date</th>\n",
       "      <th>tweet</th>\n",
       "      <th>clean_text</th>\n",
       "      <th>vader</th>\n",
       "      <th>textblob</th>\n",
       "    </tr>\n",
       "  </thead>\n",
       "  <tbody>\n",
       "    <tr>\n",
       "      <th>0</th>\n",
       "      <td>0</td>\n",
       "      <td>date</td>\n",
       "      <td>tweet</td>\n",
       "      <td>tweet</td>\n",
       "      <td>0.0</td>\n",
       "      <td>0.0</td>\n",
       "    </tr>\n",
       "  </tbody>\n",
       "</table>\n",
       "</div>"
      ],
      "text/plain": [
       "   Unnamed: 0  date  tweet clean_text  vader  textblob\n",
       "0           0  date  tweet      tweet    0.0       0.0"
      ]
     },
     "execution_count": 27,
     "metadata": {},
     "output_type": "execute_result"
    }
   ],
   "source": [
    "vader_textblob_siacoin_test_data = sentimental_tweet.twitter_data\n",
    "vader_textblob_siacoin_test_data.to_csv('vader_textblob_siacoin_test_data')\n",
    "pd.read_csv('vader_textblob_siacoin_test_data')"
   ]
  }
 ],
 "metadata": {
  "kernelspec": {
   "display_name": "Python 3 (ipykernel)",
   "language": "python",
   "name": "python3"
  },
  "language_info": {
   "codemirror_mode": {
    "name": "ipython",
    "version": 3
   },
   "file_extension": ".py",
   "mimetype": "text/x-python",
   "name": "python",
   "nbconvert_exporter": "python",
   "pygments_lexer": "ipython3",
   "version": "3.9.10"
  }
 },
 "nbformat": 4,
 "nbformat_minor": 5
}
